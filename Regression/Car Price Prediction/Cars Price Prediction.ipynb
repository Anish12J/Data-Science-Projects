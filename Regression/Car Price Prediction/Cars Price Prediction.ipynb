{
 "cells": [
  {
   "cell_type": "code",
   "execution_count": 1472,
   "id": "5cd44d50",
   "metadata": {},
   "outputs": [],
   "source": [
    "import pandas as pd\n",
    "import numpy as np\n",
    "import seaborn as sns\n",
    "import matplotlib.pyplot as plt\n",
    "from sklearn.preprocessing import OneHotEncoder\n",
    "from sklearn.preprocessing import OrdinalEncoder\n",
    "import scipy.stats as stats\n",
    "from sklearn.preprocessing import StandardScaler\n",
    "from sklearn.model_selection import train_test_split\n",
    "from sklearn.linear_model import LinearRegression\n",
    "from sklearn.linear_model import Ridge\n",
    "from sklearn.linear_model import Lasso\n",
    "from sklearn.linear_model import ElasticNet\n",
    "from sklearn.linear_model import SGDRegressor\n",
    "from sklearn.neighbors import KNeighborsRegressor\n",
    "from sklearn.svm import SVR\n",
    "from sklearn.ensemble import RandomForestRegressor\n",
    "from sklearn.ensemble import GradientBoostingRegressor\n",
    "from sklearn.model_selection import RandomizedSearchCV\n",
    "from sklearn.metrics import mean_absolute_error\n",
    "from sklearn.metrics import mean_squared_error\n",
    "import matplotlib.pyplot as plt"
   ]
  },
  {
   "cell_type": "code",
   "execution_count": 1080,
   "id": "7e143c3d",
   "metadata": {},
   "outputs": [],
   "source": [
    "data = pd.read_csv(\"cars_price (1).csv\")"
   ]
  },
  {
   "cell_type": "code",
   "execution_count": 1081,
   "id": "ab99ceb3",
   "metadata": {},
   "outputs": [
    {
     "data": {
      "text/html": [
       "<div>\n",
       "<style scoped>\n",
       "    .dataframe tbody tr th:only-of-type {\n",
       "        vertical-align: middle;\n",
       "    }\n",
       "\n",
       "    .dataframe tbody tr th {\n",
       "        vertical-align: top;\n",
       "    }\n",
       "\n",
       "    .dataframe thead th {\n",
       "        text-align: right;\n",
       "    }\n",
       "</style>\n",
       "<table border=\"1\" class=\"dataframe\">\n",
       "  <thead>\n",
       "    <tr style=\"text-align: right;\">\n",
       "      <th></th>\n",
       "      <th>symboling</th>\n",
       "      <th>normalized-losses</th>\n",
       "      <th>make</th>\n",
       "      <th>fuel-type</th>\n",
       "      <th>aspiration</th>\n",
       "      <th>num-of-doors</th>\n",
       "      <th>body-style</th>\n",
       "      <th>drive-wheels</th>\n",
       "      <th>engine-location</th>\n",
       "      <th>wheel-base</th>\n",
       "      <th>...</th>\n",
       "      <th>engine-size</th>\n",
       "      <th>fuel-system</th>\n",
       "      <th>bore</th>\n",
       "      <th>stroke</th>\n",
       "      <th>compression-ratio</th>\n",
       "      <th>horsepower</th>\n",
       "      <th>peak-rpm</th>\n",
       "      <th>city-mpg</th>\n",
       "      <th>highway-mpg</th>\n",
       "      <th>price</th>\n",
       "    </tr>\n",
       "  </thead>\n",
       "  <tbody>\n",
       "    <tr>\n",
       "      <th>0</th>\n",
       "      <td>3</td>\n",
       "      <td>?</td>\n",
       "      <td>alfa-romero</td>\n",
       "      <td>gas</td>\n",
       "      <td>std</td>\n",
       "      <td>two</td>\n",
       "      <td>convertible</td>\n",
       "      <td>rwd</td>\n",
       "      <td>front</td>\n",
       "      <td>88.6</td>\n",
       "      <td>...</td>\n",
       "      <td>130</td>\n",
       "      <td>mpfi</td>\n",
       "      <td>3.47</td>\n",
       "      <td>2.68</td>\n",
       "      <td>9.0</td>\n",
       "      <td>111</td>\n",
       "      <td>5000</td>\n",
       "      <td>21</td>\n",
       "      <td>27</td>\n",
       "      <td>13495</td>\n",
       "    </tr>\n",
       "    <tr>\n",
       "      <th>1</th>\n",
       "      <td>3</td>\n",
       "      <td>?</td>\n",
       "      <td>alfa-romero</td>\n",
       "      <td>gas</td>\n",
       "      <td>std</td>\n",
       "      <td>two</td>\n",
       "      <td>convertible</td>\n",
       "      <td>rwd</td>\n",
       "      <td>front</td>\n",
       "      <td>88.6</td>\n",
       "      <td>...</td>\n",
       "      <td>130</td>\n",
       "      <td>mpfi</td>\n",
       "      <td>3.47</td>\n",
       "      <td>2.68</td>\n",
       "      <td>9.0</td>\n",
       "      <td>111</td>\n",
       "      <td>5000</td>\n",
       "      <td>21</td>\n",
       "      <td>27</td>\n",
       "      <td>16500</td>\n",
       "    </tr>\n",
       "    <tr>\n",
       "      <th>2</th>\n",
       "      <td>1</td>\n",
       "      <td>?</td>\n",
       "      <td>alfa-romero</td>\n",
       "      <td>gas</td>\n",
       "      <td>std</td>\n",
       "      <td>two</td>\n",
       "      <td>hatchback</td>\n",
       "      <td>rwd</td>\n",
       "      <td>front</td>\n",
       "      <td>94.5</td>\n",
       "      <td>...</td>\n",
       "      <td>152</td>\n",
       "      <td>mpfi</td>\n",
       "      <td>2.68</td>\n",
       "      <td>3.47</td>\n",
       "      <td>9.0</td>\n",
       "      <td>154</td>\n",
       "      <td>5000</td>\n",
       "      <td>19</td>\n",
       "      <td>26</td>\n",
       "      <td>16500</td>\n",
       "    </tr>\n",
       "    <tr>\n",
       "      <th>3</th>\n",
       "      <td>2</td>\n",
       "      <td>164</td>\n",
       "      <td>audi</td>\n",
       "      <td>gas</td>\n",
       "      <td>std</td>\n",
       "      <td>four</td>\n",
       "      <td>sedan</td>\n",
       "      <td>fwd</td>\n",
       "      <td>front</td>\n",
       "      <td>99.8</td>\n",
       "      <td>...</td>\n",
       "      <td>109</td>\n",
       "      <td>mpfi</td>\n",
       "      <td>3.19</td>\n",
       "      <td>3.4</td>\n",
       "      <td>10.0</td>\n",
       "      <td>102</td>\n",
       "      <td>5500</td>\n",
       "      <td>24</td>\n",
       "      <td>30</td>\n",
       "      <td>13950</td>\n",
       "    </tr>\n",
       "    <tr>\n",
       "      <th>4</th>\n",
       "      <td>2</td>\n",
       "      <td>164</td>\n",
       "      <td>audi</td>\n",
       "      <td>gas</td>\n",
       "      <td>std</td>\n",
       "      <td>four</td>\n",
       "      <td>sedan</td>\n",
       "      <td>4wd</td>\n",
       "      <td>front</td>\n",
       "      <td>99.4</td>\n",
       "      <td>...</td>\n",
       "      <td>136</td>\n",
       "      <td>mpfi</td>\n",
       "      <td>3.19</td>\n",
       "      <td>3.4</td>\n",
       "      <td>8.0</td>\n",
       "      <td>115</td>\n",
       "      <td>5500</td>\n",
       "      <td>18</td>\n",
       "      <td>22</td>\n",
       "      <td>17450</td>\n",
       "    </tr>\n",
       "  </tbody>\n",
       "</table>\n",
       "<p>5 rows × 26 columns</p>\n",
       "</div>"
      ],
      "text/plain": [
       "   symboling normalized-losses         make fuel-type aspiration num-of-doors  \\\n",
       "0          3                 ?  alfa-romero       gas        std          two   \n",
       "1          3                 ?  alfa-romero       gas        std          two   \n",
       "2          1                 ?  alfa-romero       gas        std          two   \n",
       "3          2               164         audi       gas        std         four   \n",
       "4          2               164         audi       gas        std         four   \n",
       "\n",
       "    body-style drive-wheels engine-location  wheel-base  ...  engine-size  \\\n",
       "0  convertible          rwd           front        88.6  ...          130   \n",
       "1  convertible          rwd           front        88.6  ...          130   \n",
       "2    hatchback          rwd           front        94.5  ...          152   \n",
       "3        sedan          fwd           front        99.8  ...          109   \n",
       "4        sedan          4wd           front        99.4  ...          136   \n",
       "\n",
       "   fuel-system  bore  stroke compression-ratio horsepower  peak-rpm city-mpg  \\\n",
       "0         mpfi  3.47    2.68               9.0        111      5000       21   \n",
       "1         mpfi  3.47    2.68               9.0        111      5000       21   \n",
       "2         mpfi  2.68    3.47               9.0        154      5000       19   \n",
       "3         mpfi  3.19     3.4              10.0        102      5500       24   \n",
       "4         mpfi  3.19     3.4               8.0        115      5500       18   \n",
       "\n",
       "  highway-mpg  price  \n",
       "0          27  13495  \n",
       "1          27  16500  \n",
       "2          26  16500  \n",
       "3          30  13950  \n",
       "4          22  17450  \n",
       "\n",
       "[5 rows x 26 columns]"
      ]
     },
     "execution_count": 1081,
     "metadata": {},
     "output_type": "execute_result"
    }
   ],
   "source": [
    "data.head()"
   ]
  },
  {
   "cell_type": "code",
   "execution_count": 1082,
   "id": "9fa345f2",
   "metadata": {},
   "outputs": [
    {
     "data": {
      "text/plain": [
       "(205, 26)"
      ]
     },
     "execution_count": 1082,
     "metadata": {},
     "output_type": "execute_result"
    }
   ],
   "source": [
    "data.shape"
   ]
  },
  {
   "cell_type": "code",
   "execution_count": 1083,
   "id": "19138424",
   "metadata": {},
   "outputs": [
    {
     "data": {
      "text/plain": [
       "Index(['symboling', 'normalized-losses', 'make', 'fuel-type', 'aspiration',\n",
       "       'num-of-doors', 'body-style', 'drive-wheels', 'engine-location',\n",
       "       'wheel-base', 'length', 'width', 'height', 'curb-weight', 'engine-type',\n",
       "       'num-of-cylinders', 'engine-size', 'fuel-system', 'bore', 'stroke',\n",
       "       'compression-ratio', 'horsepower', 'peak-rpm', 'city-mpg',\n",
       "       'highway-mpg', 'price'],\n",
       "      dtype='object')"
      ]
     },
     "execution_count": 1083,
     "metadata": {},
     "output_type": "execute_result"
    }
   ],
   "source": [
    "data.columns"
   ]
  },
  {
   "cell_type": "code",
   "execution_count": 1084,
   "id": "aab9bb4f",
   "metadata": {},
   "outputs": [
    {
     "data": {
      "text/html": [
       "<div>\n",
       "<style scoped>\n",
       "    .dataframe tbody tr th:only-of-type {\n",
       "        vertical-align: middle;\n",
       "    }\n",
       "\n",
       "    .dataframe tbody tr th {\n",
       "        vertical-align: top;\n",
       "    }\n",
       "\n",
       "    .dataframe thead th {\n",
       "        text-align: right;\n",
       "    }\n",
       "</style>\n",
       "<table border=\"1\" class=\"dataframe\">\n",
       "  <thead>\n",
       "    <tr style=\"text-align: right;\">\n",
       "      <th></th>\n",
       "      <th>symboling</th>\n",
       "      <th>wheel-base</th>\n",
       "      <th>length</th>\n",
       "      <th>width</th>\n",
       "      <th>height</th>\n",
       "      <th>curb-weight</th>\n",
       "      <th>engine-size</th>\n",
       "      <th>compression-ratio</th>\n",
       "      <th>city-mpg</th>\n",
       "      <th>highway-mpg</th>\n",
       "    </tr>\n",
       "  </thead>\n",
       "  <tbody>\n",
       "    <tr>\n",
       "      <th>symboling</th>\n",
       "      <td>1.000000</td>\n",
       "      <td>-0.531954</td>\n",
       "      <td>-0.357612</td>\n",
       "      <td>-0.232919</td>\n",
       "      <td>-0.541038</td>\n",
       "      <td>-0.227691</td>\n",
       "      <td>-0.105790</td>\n",
       "      <td>-0.178515</td>\n",
       "      <td>-0.035823</td>\n",
       "      <td>0.034606</td>\n",
       "    </tr>\n",
       "    <tr>\n",
       "      <th>wheel-base</th>\n",
       "      <td>-0.531954</td>\n",
       "      <td>1.000000</td>\n",
       "      <td>0.874587</td>\n",
       "      <td>0.795144</td>\n",
       "      <td>0.589435</td>\n",
       "      <td>0.776386</td>\n",
       "      <td>0.569329</td>\n",
       "      <td>0.249786</td>\n",
       "      <td>-0.470414</td>\n",
       "      <td>-0.544082</td>\n",
       "    </tr>\n",
       "    <tr>\n",
       "      <th>length</th>\n",
       "      <td>-0.357612</td>\n",
       "      <td>0.874587</td>\n",
       "      <td>1.000000</td>\n",
       "      <td>0.841118</td>\n",
       "      <td>0.491029</td>\n",
       "      <td>0.877728</td>\n",
       "      <td>0.683360</td>\n",
       "      <td>0.158414</td>\n",
       "      <td>-0.670909</td>\n",
       "      <td>-0.704662</td>\n",
       "    </tr>\n",
       "    <tr>\n",
       "      <th>width</th>\n",
       "      <td>-0.232919</td>\n",
       "      <td>0.795144</td>\n",
       "      <td>0.841118</td>\n",
       "      <td>1.000000</td>\n",
       "      <td>0.279210</td>\n",
       "      <td>0.867032</td>\n",
       "      <td>0.735433</td>\n",
       "      <td>0.181129</td>\n",
       "      <td>-0.642704</td>\n",
       "      <td>-0.677218</td>\n",
       "    </tr>\n",
       "    <tr>\n",
       "      <th>height</th>\n",
       "      <td>-0.541038</td>\n",
       "      <td>0.589435</td>\n",
       "      <td>0.491029</td>\n",
       "      <td>0.279210</td>\n",
       "      <td>1.000000</td>\n",
       "      <td>0.295572</td>\n",
       "      <td>0.067149</td>\n",
       "      <td>0.261214</td>\n",
       "      <td>-0.048640</td>\n",
       "      <td>-0.107358</td>\n",
       "    </tr>\n",
       "    <tr>\n",
       "      <th>curb-weight</th>\n",
       "      <td>-0.227691</td>\n",
       "      <td>0.776386</td>\n",
       "      <td>0.877728</td>\n",
       "      <td>0.867032</td>\n",
       "      <td>0.295572</td>\n",
       "      <td>1.000000</td>\n",
       "      <td>0.850594</td>\n",
       "      <td>0.151362</td>\n",
       "      <td>-0.757414</td>\n",
       "      <td>-0.797465</td>\n",
       "    </tr>\n",
       "    <tr>\n",
       "      <th>engine-size</th>\n",
       "      <td>-0.105790</td>\n",
       "      <td>0.569329</td>\n",
       "      <td>0.683360</td>\n",
       "      <td>0.735433</td>\n",
       "      <td>0.067149</td>\n",
       "      <td>0.850594</td>\n",
       "      <td>1.000000</td>\n",
       "      <td>0.028971</td>\n",
       "      <td>-0.653658</td>\n",
       "      <td>-0.677470</td>\n",
       "    </tr>\n",
       "    <tr>\n",
       "      <th>compression-ratio</th>\n",
       "      <td>-0.178515</td>\n",
       "      <td>0.249786</td>\n",
       "      <td>0.158414</td>\n",
       "      <td>0.181129</td>\n",
       "      <td>0.261214</td>\n",
       "      <td>0.151362</td>\n",
       "      <td>0.028971</td>\n",
       "      <td>1.000000</td>\n",
       "      <td>0.324701</td>\n",
       "      <td>0.265201</td>\n",
       "    </tr>\n",
       "    <tr>\n",
       "      <th>city-mpg</th>\n",
       "      <td>-0.035823</td>\n",
       "      <td>-0.470414</td>\n",
       "      <td>-0.670909</td>\n",
       "      <td>-0.642704</td>\n",
       "      <td>-0.048640</td>\n",
       "      <td>-0.757414</td>\n",
       "      <td>-0.653658</td>\n",
       "      <td>0.324701</td>\n",
       "      <td>1.000000</td>\n",
       "      <td>0.971337</td>\n",
       "    </tr>\n",
       "    <tr>\n",
       "      <th>highway-mpg</th>\n",
       "      <td>0.034606</td>\n",
       "      <td>-0.544082</td>\n",
       "      <td>-0.704662</td>\n",
       "      <td>-0.677218</td>\n",
       "      <td>-0.107358</td>\n",
       "      <td>-0.797465</td>\n",
       "      <td>-0.677470</td>\n",
       "      <td>0.265201</td>\n",
       "      <td>0.971337</td>\n",
       "      <td>1.000000</td>\n",
       "    </tr>\n",
       "  </tbody>\n",
       "</table>\n",
       "</div>"
      ],
      "text/plain": [
       "                   symboling  wheel-base    length     width    height  \\\n",
       "symboling           1.000000   -0.531954 -0.357612 -0.232919 -0.541038   \n",
       "wheel-base         -0.531954    1.000000  0.874587  0.795144  0.589435   \n",
       "length             -0.357612    0.874587  1.000000  0.841118  0.491029   \n",
       "width              -0.232919    0.795144  0.841118  1.000000  0.279210   \n",
       "height             -0.541038    0.589435  0.491029  0.279210  1.000000   \n",
       "curb-weight        -0.227691    0.776386  0.877728  0.867032  0.295572   \n",
       "engine-size        -0.105790    0.569329  0.683360  0.735433  0.067149   \n",
       "compression-ratio  -0.178515    0.249786  0.158414  0.181129  0.261214   \n",
       "city-mpg           -0.035823   -0.470414 -0.670909 -0.642704 -0.048640   \n",
       "highway-mpg         0.034606   -0.544082 -0.704662 -0.677218 -0.107358   \n",
       "\n",
       "                   curb-weight  engine-size  compression-ratio  city-mpg  \\\n",
       "symboling            -0.227691    -0.105790          -0.178515 -0.035823   \n",
       "wheel-base            0.776386     0.569329           0.249786 -0.470414   \n",
       "length                0.877728     0.683360           0.158414 -0.670909   \n",
       "width                 0.867032     0.735433           0.181129 -0.642704   \n",
       "height                0.295572     0.067149           0.261214 -0.048640   \n",
       "curb-weight           1.000000     0.850594           0.151362 -0.757414   \n",
       "engine-size           0.850594     1.000000           0.028971 -0.653658   \n",
       "compression-ratio     0.151362     0.028971           1.000000  0.324701   \n",
       "city-mpg             -0.757414    -0.653658           0.324701  1.000000   \n",
       "highway-mpg          -0.797465    -0.677470           0.265201  0.971337   \n",
       "\n",
       "                   highway-mpg  \n",
       "symboling             0.034606  \n",
       "wheel-base           -0.544082  \n",
       "length               -0.704662  \n",
       "width                -0.677218  \n",
       "height               -0.107358  \n",
       "curb-weight          -0.797465  \n",
       "engine-size          -0.677470  \n",
       "compression-ratio     0.265201  \n",
       "city-mpg              0.971337  \n",
       "highway-mpg           1.000000  "
      ]
     },
     "execution_count": 1084,
     "metadata": {},
     "output_type": "execute_result"
    }
   ],
   "source": [
    "numericCorr = data.corr()\n",
    "numericCorr"
   ]
  },
  {
   "cell_type": "code",
   "execution_count": 1085,
   "id": "2a550053",
   "metadata": {},
   "outputs": [
    {
     "data": {
      "text/plain": [
       "symboling              int64\n",
       "normalized-losses     object\n",
       "make                  object\n",
       "fuel-type             object\n",
       "aspiration            object\n",
       "num-of-doors          object\n",
       "body-style            object\n",
       "drive-wheels          object\n",
       "engine-location       object\n",
       "wheel-base           float64\n",
       "length               float64\n",
       "width                float64\n",
       "height               float64\n",
       "curb-weight            int64\n",
       "engine-type           object\n",
       "num-of-cylinders      object\n",
       "engine-size            int64\n",
       "fuel-system           object\n",
       "bore                  object\n",
       "stroke                object\n",
       "compression-ratio    float64\n",
       "horsepower            object\n",
       "peak-rpm              object\n",
       "city-mpg               int64\n",
       "highway-mpg            int64\n",
       "price                 object\n",
       "dtype: object"
      ]
     },
     "execution_count": 1085,
     "metadata": {},
     "output_type": "execute_result"
    }
   ],
   "source": [
    "data.dtypes"
   ]
  },
  {
   "cell_type": "markdown",
   "id": "ab5cd811",
   "metadata": {},
   "source": [
    " Feature Selection"
   ]
  },
  {
   "cell_type": "code",
   "execution_count": 1086,
   "id": "a8adce52",
   "metadata": {},
   "outputs": [],
   "source": [
    "columns = [\"body-style\",\"num-of-doors\",\"peak-rpm\",\"aspiration\",\"engine-type\",\"fuel-system\",\"drive-wheels\",\n",
    "           \"engine-location\",\"num-of-cylinders\",\"fuel-type\",\"bore\",\"stroke\",\"horsepower\"]\n",
    "pValues = {}\n",
    "for col in columns:\n",
    "    CrossTab = pd.crosstab(data.loc[:,col],data[\"price\"])\n",
    "    g,p,dof,expctd = stats.chi2_contingency(CrossTab)\n",
    "    pValues[col] = p"
   ]
  },
  {
   "cell_type": "code",
   "execution_count": 1087,
   "id": "c0208cd4",
   "metadata": {},
   "outputs": [
    {
     "data": {
      "text/plain": [
       "{'body-style': 0.16836092793956492,\n",
       " 'num-of-doors': 0.1461543046416186,\n",
       " 'peak-rpm': 0.22825913754576305,\n",
       " 'aspiration': 0.2838831272296841,\n",
       " 'engine-type': 0.9609642940693653,\n",
       " 'fuel-system': 0.0439193017532106,\n",
       " 'drive-wheels': 0.45041409214649725,\n",
       " 'engine-location': 0.1616456057739124,\n",
       " 'num-of-cylinders': 0.09264587294968095,\n",
       " 'fuel-type': 0.3352830796978861,\n",
       " 'bore': 0.721448268503809,\n",
       " 'stroke': 0.0005668043500952159,\n",
       " 'horsepower': 0.0018724219664754556}"
      ]
     },
     "execution_count": 1087,
     "metadata": {},
     "output_type": "execute_result"
    }
   ],
   "source": [
    "pValues"
   ]
  },
  {
   "cell_type": "code",
   "execution_count": 1088,
   "id": "c381989f",
   "metadata": {},
   "outputs": [],
   "source": [
    "#From the p values oof the test of independence is less than 0.05 for 3 features we will accept the NUll Hypothesis \n",
    "#and drop this feature as we accept the NULL hypothesis that this feature does not have any significant effect on the price."
   ]
  },
  {
   "cell_type": "code",
   "execution_count": 1089,
   "id": "bfcbe488",
   "metadata": {},
   "outputs": [],
   "source": [
    "data.drop([\"stroke\",\"horsepower\",\"fuel-system\"],axis = 1,inplace = True)"
   ]
  },
  {
   "cell_type": "code",
   "execution_count": 1090,
   "id": "422c1382",
   "metadata": {},
   "outputs": [],
   "source": [
    "#Since predicting the price is a regression problem we need to convert the \"price\" column from object to numeric"
   ]
  },
  {
   "cell_type": "code",
   "execution_count": 1091,
   "id": "e786e368",
   "metadata": {},
   "outputs": [
    {
     "data": {
      "text/plain": [
       "0"
      ]
     },
     "execution_count": 1091,
     "metadata": {},
     "output_type": "execute_result"
    }
   ],
   "source": [
    "data[\"price\"].isna().sum()\n",
    "#data[\"price\"] = pd.to_numeric(data[\"price\"])"
   ]
  },
  {
   "cell_type": "code",
   "execution_count": 1092,
   "id": "a41646e6",
   "metadata": {},
   "outputs": [],
   "source": [
    "#even though there are no Nan values, we are not able to do the to_numeric conversion because there is a \"?\" \n",
    "#value present in that column"
   ]
  },
  {
   "cell_type": "code",
   "execution_count": 1093,
   "id": "fdda55fc",
   "metadata": {},
   "outputs": [
    {
     "data": {
      "text/plain": [
       "9      ?\n",
       "44     ?\n",
       "45     ?\n",
       "129    ?\n",
       "Name: price, dtype: object"
      ]
     },
     "execution_count": 1093,
     "metadata": {},
     "output_type": "execute_result"
    }
   ],
   "source": [
    "data[data[\"price\"] ==\"?\"][\"price\"]"
   ]
  },
  {
   "cell_type": "code",
   "execution_count": 1094,
   "id": "2935e6c7",
   "metadata": {},
   "outputs": [
    {
     "data": {
      "text/plain": [
       "?        4\n",
       "8921     2\n",
       "18150    2\n",
       "8845     2\n",
       "8495     2\n",
       "        ..\n",
       "45400    1\n",
       "16503    1\n",
       "5389     1\n",
       "6189     1\n",
       "22625    1\n",
       "Name: price, Length: 187, dtype: int64"
      ]
     },
     "execution_count": 1094,
     "metadata": {},
     "output_type": "execute_result"
    }
   ],
   "source": [
    "data['price'].value_counts()"
   ]
  },
  {
   "cell_type": "code",
   "execution_count": 1095,
   "id": "957e3a42",
   "metadata": {},
   "outputs": [],
   "source": [
    "#Since all the values are string we can only use mode to fill the \"?\", but then that will result into it replaced by \"?\" only.\n",
    "#Hence for now we will replace \"?\" with a dummy numeric value 0"
   ]
  },
  {
   "cell_type": "code",
   "execution_count": 1096,
   "id": "c3e22113",
   "metadata": {},
   "outputs": [],
   "source": [
    "data.loc[data[\"price\"] == \"?\",\"price\"] = 0"
   ]
  },
  {
   "cell_type": "code",
   "execution_count": 1097,
   "id": "0bc9f122",
   "metadata": {},
   "outputs": [
    {
     "data": {
      "text/plain": [
       "dtype('int64')"
      ]
     },
     "execution_count": 1097,
     "metadata": {},
     "output_type": "execute_result"
    }
   ],
   "source": [
    "data[\"price\"] = pd.to_numeric(data[\"price\"])\n",
    "data['price'].dtype"
   ]
  },
  {
   "cell_type": "code",
   "execution_count": 1098,
   "id": "f8163daa",
   "metadata": {},
   "outputs": [
    {
     "data": {
      "text/html": [
       "<div>\n",
       "<style scoped>\n",
       "    .dataframe tbody tr th:only-of-type {\n",
       "        vertical-align: middle;\n",
       "    }\n",
       "\n",
       "    .dataframe tbody tr th {\n",
       "        vertical-align: top;\n",
       "    }\n",
       "\n",
       "    .dataframe thead th {\n",
       "        text-align: right;\n",
       "    }\n",
       "</style>\n",
       "<table border=\"1\" class=\"dataframe\">\n",
       "  <thead>\n",
       "    <tr style=\"text-align: right;\">\n",
       "      <th></th>\n",
       "      <th>symboling</th>\n",
       "      <th>normalized-losses</th>\n",
       "      <th>make</th>\n",
       "      <th>fuel-type</th>\n",
       "      <th>aspiration</th>\n",
       "      <th>num-of-doors</th>\n",
       "      <th>body-style</th>\n",
       "      <th>drive-wheels</th>\n",
       "      <th>engine-location</th>\n",
       "      <th>wheel-base</th>\n",
       "      <th>...</th>\n",
       "      <th>curb-weight</th>\n",
       "      <th>engine-type</th>\n",
       "      <th>num-of-cylinders</th>\n",
       "      <th>engine-size</th>\n",
       "      <th>bore</th>\n",
       "      <th>compression-ratio</th>\n",
       "      <th>peak-rpm</th>\n",
       "      <th>city-mpg</th>\n",
       "      <th>highway-mpg</th>\n",
       "      <th>price</th>\n",
       "    </tr>\n",
       "  </thead>\n",
       "  <tbody>\n",
       "    <tr>\n",
       "      <th>9</th>\n",
       "      <td>0</td>\n",
       "      <td>?</td>\n",
       "      <td>audi</td>\n",
       "      <td>gas</td>\n",
       "      <td>turbo</td>\n",
       "      <td>two</td>\n",
       "      <td>hatchback</td>\n",
       "      <td>4wd</td>\n",
       "      <td>front</td>\n",
       "      <td>99.5</td>\n",
       "      <td>...</td>\n",
       "      <td>3053</td>\n",
       "      <td>ohc</td>\n",
       "      <td>five</td>\n",
       "      <td>131</td>\n",
       "      <td>3.13</td>\n",
       "      <td>7.0</td>\n",
       "      <td>5500</td>\n",
       "      <td>16</td>\n",
       "      <td>22</td>\n",
       "      <td>0</td>\n",
       "    </tr>\n",
       "    <tr>\n",
       "      <th>44</th>\n",
       "      <td>1</td>\n",
       "      <td>?</td>\n",
       "      <td>isuzu</td>\n",
       "      <td>gas</td>\n",
       "      <td>std</td>\n",
       "      <td>two</td>\n",
       "      <td>sedan</td>\n",
       "      <td>fwd</td>\n",
       "      <td>front</td>\n",
       "      <td>94.5</td>\n",
       "      <td>...</td>\n",
       "      <td>1874</td>\n",
       "      <td>ohc</td>\n",
       "      <td>four</td>\n",
       "      <td>90</td>\n",
       "      <td>3.03</td>\n",
       "      <td>9.6</td>\n",
       "      <td>5400</td>\n",
       "      <td>38</td>\n",
       "      <td>43</td>\n",
       "      <td>0</td>\n",
       "    </tr>\n",
       "    <tr>\n",
       "      <th>45</th>\n",
       "      <td>0</td>\n",
       "      <td>?</td>\n",
       "      <td>isuzu</td>\n",
       "      <td>gas</td>\n",
       "      <td>std</td>\n",
       "      <td>four</td>\n",
       "      <td>sedan</td>\n",
       "      <td>fwd</td>\n",
       "      <td>front</td>\n",
       "      <td>94.5</td>\n",
       "      <td>...</td>\n",
       "      <td>1909</td>\n",
       "      <td>ohc</td>\n",
       "      <td>four</td>\n",
       "      <td>90</td>\n",
       "      <td>3.03</td>\n",
       "      <td>9.6</td>\n",
       "      <td>5400</td>\n",
       "      <td>38</td>\n",
       "      <td>43</td>\n",
       "      <td>0</td>\n",
       "    </tr>\n",
       "    <tr>\n",
       "      <th>129</th>\n",
       "      <td>1</td>\n",
       "      <td>?</td>\n",
       "      <td>porsche</td>\n",
       "      <td>gas</td>\n",
       "      <td>std</td>\n",
       "      <td>two</td>\n",
       "      <td>hatchback</td>\n",
       "      <td>rwd</td>\n",
       "      <td>front</td>\n",
       "      <td>98.4</td>\n",
       "      <td>...</td>\n",
       "      <td>3366</td>\n",
       "      <td>dohcv</td>\n",
       "      <td>eight</td>\n",
       "      <td>203</td>\n",
       "      <td>3.94</td>\n",
       "      <td>10.0</td>\n",
       "      <td>5750</td>\n",
       "      <td>17</td>\n",
       "      <td>28</td>\n",
       "      <td>0</td>\n",
       "    </tr>\n",
       "  </tbody>\n",
       "</table>\n",
       "<p>4 rows × 23 columns</p>\n",
       "</div>"
      ],
      "text/plain": [
       "     symboling normalized-losses     make fuel-type aspiration num-of-doors  \\\n",
       "9            0                 ?     audi       gas      turbo          two   \n",
       "44           1                 ?    isuzu       gas        std          two   \n",
       "45           0                 ?    isuzu       gas        std         four   \n",
       "129          1                 ?  porsche       gas        std          two   \n",
       "\n",
       "    body-style drive-wheels engine-location  wheel-base  ...  curb-weight  \\\n",
       "9    hatchback          4wd           front        99.5  ...         3053   \n",
       "44       sedan          fwd           front        94.5  ...         1874   \n",
       "45       sedan          fwd           front        94.5  ...         1909   \n",
       "129  hatchback          rwd           front        98.4  ...         3366   \n",
       "\n",
       "     engine-type  num-of-cylinders  engine-size  bore compression-ratio  \\\n",
       "9            ohc              five          131  3.13               7.0   \n",
       "44           ohc              four           90  3.03               9.6   \n",
       "45           ohc              four           90  3.03               9.6   \n",
       "129        dohcv             eight          203  3.94              10.0   \n",
       "\n",
       "     peak-rpm city-mpg  highway-mpg price  \n",
       "9        5500       16           22     0  \n",
       "44       5400       38           43     0  \n",
       "45       5400       38           43     0  \n",
       "129      5750       17           28     0  \n",
       "\n",
       "[4 rows x 23 columns]"
      ]
     },
     "execution_count": 1098,
     "metadata": {},
     "output_type": "execute_result"
    }
   ],
   "source": [
    "data[data[\"price\"] == 0]"
   ]
  },
  {
   "cell_type": "code",
   "execution_count": 1099,
   "id": "2a2f8f7a",
   "metadata": {},
   "outputs": [],
   "source": [
    "#Now that the column has been converted to numeric datatype we will replace the dummy 0 value with the actula mean \n",
    "#of that price feature"
   ]
  },
  {
   "cell_type": "code",
   "execution_count": 1100,
   "id": "8c17626c",
   "metadata": {},
   "outputs": [
    {
     "data": {
      "text/plain": [
       "12949.429268    4\n",
       "8921.000000     2\n",
       "18150.000000    2\n",
       "8845.000000     2\n",
       "8495.000000     2\n",
       "               ..\n",
       "45400.000000    1\n",
       "16503.000000    1\n",
       "5389.000000     1\n",
       "6189.000000     1\n",
       "22625.000000    1\n",
       "Name: price, Length: 187, dtype: int64"
      ]
     },
     "execution_count": 1100,
     "metadata": {},
     "output_type": "execute_result"
    }
   ],
   "source": [
    "data.loc[data[\"price\"] == 0,\"price\"] = data[\"price\"].mean()\n",
    "data[\"price\"].value_counts()"
   ]
  },
  {
   "cell_type": "code",
   "execution_count": 1101,
   "id": "ff2a6310",
   "metadata": {},
   "outputs": [
    {
     "data": {
      "text/plain": [
       "symboling           -0.082028\n",
       "wheel-base           0.583379\n",
       "length               0.683376\n",
       "width                0.728409\n",
       "height               0.134938\n",
       "curb-weight          0.820823\n",
       "engine-size          0.861719\n",
       "compression-ratio    0.071166\n",
       "city-mpg            -0.667642\n",
       "highway-mpg         -0.690822\n",
       "price                1.000000\n",
       "Name: price, dtype: float64"
      ]
     },
     "execution_count": 1101,
     "metadata": {},
     "output_type": "execute_result"
    }
   ],
   "source": [
    "numericCorr = data.corr()\n",
    "numericCorr[\"price\"]"
   ]
  },
  {
   "cell_type": "code",
   "execution_count": 1109,
   "id": "f9767c4a",
   "metadata": {},
   "outputs": [],
   "source": [
    "#Dropping features symboling adn compression ratio since their correlation with price is very less as compared to other features.\n",
    "data.drop([\"symboling\",\"compression-ratio\"],axis = 1, inplace = True)\n",
    "numericCorr.drop([\"symboling\",\"compression-ratio\"],axis = 1, inplace = True)"
   ]
  },
  {
   "cell_type": "code",
   "execution_count": 1110,
   "id": "5274bf8d",
   "metadata": {},
   "outputs": [
    {
     "data": {
      "text/html": [
       "<div>\n",
       "<style scoped>\n",
       "    .dataframe tbody tr th:only-of-type {\n",
       "        vertical-align: middle;\n",
       "    }\n",
       "\n",
       "    .dataframe tbody tr th {\n",
       "        vertical-align: top;\n",
       "    }\n",
       "\n",
       "    .dataframe thead th {\n",
       "        text-align: right;\n",
       "    }\n",
       "</style>\n",
       "<table border=\"1\" class=\"dataframe\">\n",
       "  <thead>\n",
       "    <tr style=\"text-align: right;\">\n",
       "      <th></th>\n",
       "      <th>wheel-base</th>\n",
       "      <th>length</th>\n",
       "      <th>width</th>\n",
       "      <th>height</th>\n",
       "      <th>curb-weight</th>\n",
       "      <th>engine-size</th>\n",
       "      <th>city-mpg</th>\n",
       "      <th>highway-mpg</th>\n",
       "      <th>price</th>\n",
       "    </tr>\n",
       "  </thead>\n",
       "  <tbody>\n",
       "    <tr>\n",
       "      <th>0</th>\n",
       "      <td>88.6</td>\n",
       "      <td>168.8</td>\n",
       "      <td>64.1</td>\n",
       "      <td>48.8</td>\n",
       "      <td>2548</td>\n",
       "      <td>130</td>\n",
       "      <td>21</td>\n",
       "      <td>27</td>\n",
       "      <td>13495.0</td>\n",
       "    </tr>\n",
       "    <tr>\n",
       "      <th>1</th>\n",
       "      <td>88.6</td>\n",
       "      <td>168.8</td>\n",
       "      <td>64.1</td>\n",
       "      <td>48.8</td>\n",
       "      <td>2548</td>\n",
       "      <td>130</td>\n",
       "      <td>21</td>\n",
       "      <td>27</td>\n",
       "      <td>16500.0</td>\n",
       "    </tr>\n",
       "    <tr>\n",
       "      <th>2</th>\n",
       "      <td>94.5</td>\n",
       "      <td>171.2</td>\n",
       "      <td>65.5</td>\n",
       "      <td>52.4</td>\n",
       "      <td>2823</td>\n",
       "      <td>152</td>\n",
       "      <td>19</td>\n",
       "      <td>26</td>\n",
       "      <td>16500.0</td>\n",
       "    </tr>\n",
       "    <tr>\n",
       "      <th>3</th>\n",
       "      <td>99.8</td>\n",
       "      <td>176.6</td>\n",
       "      <td>66.2</td>\n",
       "      <td>54.3</td>\n",
       "      <td>2337</td>\n",
       "      <td>109</td>\n",
       "      <td>24</td>\n",
       "      <td>30</td>\n",
       "      <td>13950.0</td>\n",
       "    </tr>\n",
       "    <tr>\n",
       "      <th>4</th>\n",
       "      <td>99.4</td>\n",
       "      <td>176.6</td>\n",
       "      <td>66.4</td>\n",
       "      <td>54.3</td>\n",
       "      <td>2824</td>\n",
       "      <td>136</td>\n",
       "      <td>18</td>\n",
       "      <td>22</td>\n",
       "      <td>17450.0</td>\n",
       "    </tr>\n",
       "    <tr>\n",
       "      <th>...</th>\n",
       "      <td>...</td>\n",
       "      <td>...</td>\n",
       "      <td>...</td>\n",
       "      <td>...</td>\n",
       "      <td>...</td>\n",
       "      <td>...</td>\n",
       "      <td>...</td>\n",
       "      <td>...</td>\n",
       "      <td>...</td>\n",
       "    </tr>\n",
       "    <tr>\n",
       "      <th>200</th>\n",
       "      <td>109.1</td>\n",
       "      <td>188.8</td>\n",
       "      <td>68.9</td>\n",
       "      <td>55.5</td>\n",
       "      <td>2952</td>\n",
       "      <td>141</td>\n",
       "      <td>23</td>\n",
       "      <td>28</td>\n",
       "      <td>16845.0</td>\n",
       "    </tr>\n",
       "    <tr>\n",
       "      <th>201</th>\n",
       "      <td>109.1</td>\n",
       "      <td>188.8</td>\n",
       "      <td>68.8</td>\n",
       "      <td>55.5</td>\n",
       "      <td>3049</td>\n",
       "      <td>141</td>\n",
       "      <td>19</td>\n",
       "      <td>25</td>\n",
       "      <td>19045.0</td>\n",
       "    </tr>\n",
       "    <tr>\n",
       "      <th>202</th>\n",
       "      <td>109.1</td>\n",
       "      <td>188.8</td>\n",
       "      <td>68.9</td>\n",
       "      <td>55.5</td>\n",
       "      <td>3012</td>\n",
       "      <td>173</td>\n",
       "      <td>18</td>\n",
       "      <td>23</td>\n",
       "      <td>21485.0</td>\n",
       "    </tr>\n",
       "    <tr>\n",
       "      <th>203</th>\n",
       "      <td>109.1</td>\n",
       "      <td>188.8</td>\n",
       "      <td>68.9</td>\n",
       "      <td>55.5</td>\n",
       "      <td>3217</td>\n",
       "      <td>145</td>\n",
       "      <td>26</td>\n",
       "      <td>27</td>\n",
       "      <td>22470.0</td>\n",
       "    </tr>\n",
       "    <tr>\n",
       "      <th>204</th>\n",
       "      <td>109.1</td>\n",
       "      <td>188.8</td>\n",
       "      <td>68.9</td>\n",
       "      <td>55.5</td>\n",
       "      <td>3062</td>\n",
       "      <td>141</td>\n",
       "      <td>19</td>\n",
       "      <td>25</td>\n",
       "      <td>22625.0</td>\n",
       "    </tr>\n",
       "  </tbody>\n",
       "</table>\n",
       "<p>205 rows × 9 columns</p>\n",
       "</div>"
      ],
      "text/plain": [
       "     wheel-base  length  width  height  curb-weight  engine-size  city-mpg  \\\n",
       "0          88.6   168.8   64.1    48.8         2548          130        21   \n",
       "1          88.6   168.8   64.1    48.8         2548          130        21   \n",
       "2          94.5   171.2   65.5    52.4         2823          152        19   \n",
       "3          99.8   176.6   66.2    54.3         2337          109        24   \n",
       "4          99.4   176.6   66.4    54.3         2824          136        18   \n",
       "..          ...     ...    ...     ...          ...          ...       ...   \n",
       "200       109.1   188.8   68.9    55.5         2952          141        23   \n",
       "201       109.1   188.8   68.8    55.5         3049          141        19   \n",
       "202       109.1   188.8   68.9    55.5         3012          173        18   \n",
       "203       109.1   188.8   68.9    55.5         3217          145        26   \n",
       "204       109.1   188.8   68.9    55.5         3062          141        19   \n",
       "\n",
       "     highway-mpg    price  \n",
       "0             27  13495.0  \n",
       "1             27  16500.0  \n",
       "2             26  16500.0  \n",
       "3             30  13950.0  \n",
       "4             22  17450.0  \n",
       "..           ...      ...  \n",
       "200           28  16845.0  \n",
       "201           25  19045.0  \n",
       "202           23  21485.0  \n",
       "203           27  22470.0  \n",
       "204           25  22625.0  \n",
       "\n",
       "[205 rows x 9 columns]"
      ]
     },
     "execution_count": 1110,
     "metadata": {},
     "output_type": "execute_result"
    }
   ],
   "source": [
    "numericFeatures  = numericCorr.columns \n",
    "numericFeatures\n",
    "data.loc[:,numericFeatures]"
   ]
  },
  {
   "cell_type": "code",
   "execution_count": 1111,
   "id": "bc2bc6ac",
   "metadata": {},
   "outputs": [
    {
     "data": {
      "text/html": [
       "<div>\n",
       "<style scoped>\n",
       "    .dataframe tbody tr th:only-of-type {\n",
       "        vertical-align: middle;\n",
       "    }\n",
       "\n",
       "    .dataframe tbody tr th {\n",
       "        vertical-align: top;\n",
       "    }\n",
       "\n",
       "    .dataframe thead th {\n",
       "        text-align: right;\n",
       "    }\n",
       "</style>\n",
       "<table border=\"1\" class=\"dataframe\">\n",
       "  <thead>\n",
       "    <tr style=\"text-align: right;\">\n",
       "      <th></th>\n",
       "      <th>normalized-losses</th>\n",
       "      <th>make</th>\n",
       "      <th>fuel-type</th>\n",
       "      <th>aspiration</th>\n",
       "      <th>num-of-doors</th>\n",
       "      <th>body-style</th>\n",
       "      <th>drive-wheels</th>\n",
       "      <th>engine-location</th>\n",
       "      <th>engine-type</th>\n",
       "      <th>num-of-cylinders</th>\n",
       "      <th>bore</th>\n",
       "      <th>peak-rpm</th>\n",
       "    </tr>\n",
       "  </thead>\n",
       "  <tbody>\n",
       "    <tr>\n",
       "      <th>0</th>\n",
       "      <td>?</td>\n",
       "      <td>alfa-romero</td>\n",
       "      <td>gas</td>\n",
       "      <td>std</td>\n",
       "      <td>two</td>\n",
       "      <td>convertible</td>\n",
       "      <td>rwd</td>\n",
       "      <td>front</td>\n",
       "      <td>dohc</td>\n",
       "      <td>four</td>\n",
       "      <td>3.47</td>\n",
       "      <td>5000</td>\n",
       "    </tr>\n",
       "    <tr>\n",
       "      <th>1</th>\n",
       "      <td>?</td>\n",
       "      <td>alfa-romero</td>\n",
       "      <td>gas</td>\n",
       "      <td>std</td>\n",
       "      <td>two</td>\n",
       "      <td>convertible</td>\n",
       "      <td>rwd</td>\n",
       "      <td>front</td>\n",
       "      <td>dohc</td>\n",
       "      <td>four</td>\n",
       "      <td>3.47</td>\n",
       "      <td>5000</td>\n",
       "    </tr>\n",
       "    <tr>\n",
       "      <th>2</th>\n",
       "      <td>?</td>\n",
       "      <td>alfa-romero</td>\n",
       "      <td>gas</td>\n",
       "      <td>std</td>\n",
       "      <td>two</td>\n",
       "      <td>hatchback</td>\n",
       "      <td>rwd</td>\n",
       "      <td>front</td>\n",
       "      <td>ohcv</td>\n",
       "      <td>six</td>\n",
       "      <td>2.68</td>\n",
       "      <td>5000</td>\n",
       "    </tr>\n",
       "    <tr>\n",
       "      <th>3</th>\n",
       "      <td>164</td>\n",
       "      <td>audi</td>\n",
       "      <td>gas</td>\n",
       "      <td>std</td>\n",
       "      <td>four</td>\n",
       "      <td>sedan</td>\n",
       "      <td>fwd</td>\n",
       "      <td>front</td>\n",
       "      <td>ohc</td>\n",
       "      <td>four</td>\n",
       "      <td>3.19</td>\n",
       "      <td>5500</td>\n",
       "    </tr>\n",
       "    <tr>\n",
       "      <th>4</th>\n",
       "      <td>164</td>\n",
       "      <td>audi</td>\n",
       "      <td>gas</td>\n",
       "      <td>std</td>\n",
       "      <td>four</td>\n",
       "      <td>sedan</td>\n",
       "      <td>4wd</td>\n",
       "      <td>front</td>\n",
       "      <td>ohc</td>\n",
       "      <td>five</td>\n",
       "      <td>3.19</td>\n",
       "      <td>5500</td>\n",
       "    </tr>\n",
       "    <tr>\n",
       "      <th>...</th>\n",
       "      <td>...</td>\n",
       "      <td>...</td>\n",
       "      <td>...</td>\n",
       "      <td>...</td>\n",
       "      <td>...</td>\n",
       "      <td>...</td>\n",
       "      <td>...</td>\n",
       "      <td>...</td>\n",
       "      <td>...</td>\n",
       "      <td>...</td>\n",
       "      <td>...</td>\n",
       "      <td>...</td>\n",
       "    </tr>\n",
       "    <tr>\n",
       "      <th>200</th>\n",
       "      <td>95</td>\n",
       "      <td>volvo</td>\n",
       "      <td>gas</td>\n",
       "      <td>std</td>\n",
       "      <td>four</td>\n",
       "      <td>sedan</td>\n",
       "      <td>rwd</td>\n",
       "      <td>front</td>\n",
       "      <td>ohc</td>\n",
       "      <td>four</td>\n",
       "      <td>3.78</td>\n",
       "      <td>5400</td>\n",
       "    </tr>\n",
       "    <tr>\n",
       "      <th>201</th>\n",
       "      <td>95</td>\n",
       "      <td>volvo</td>\n",
       "      <td>gas</td>\n",
       "      <td>turbo</td>\n",
       "      <td>four</td>\n",
       "      <td>sedan</td>\n",
       "      <td>rwd</td>\n",
       "      <td>front</td>\n",
       "      <td>ohc</td>\n",
       "      <td>four</td>\n",
       "      <td>3.78</td>\n",
       "      <td>5300</td>\n",
       "    </tr>\n",
       "    <tr>\n",
       "      <th>202</th>\n",
       "      <td>95</td>\n",
       "      <td>volvo</td>\n",
       "      <td>gas</td>\n",
       "      <td>std</td>\n",
       "      <td>four</td>\n",
       "      <td>sedan</td>\n",
       "      <td>rwd</td>\n",
       "      <td>front</td>\n",
       "      <td>ohcv</td>\n",
       "      <td>six</td>\n",
       "      <td>3.58</td>\n",
       "      <td>5500</td>\n",
       "    </tr>\n",
       "    <tr>\n",
       "      <th>203</th>\n",
       "      <td>95</td>\n",
       "      <td>volvo</td>\n",
       "      <td>diesel</td>\n",
       "      <td>turbo</td>\n",
       "      <td>four</td>\n",
       "      <td>sedan</td>\n",
       "      <td>rwd</td>\n",
       "      <td>front</td>\n",
       "      <td>ohc</td>\n",
       "      <td>six</td>\n",
       "      <td>3.01</td>\n",
       "      <td>4800</td>\n",
       "    </tr>\n",
       "    <tr>\n",
       "      <th>204</th>\n",
       "      <td>95</td>\n",
       "      <td>volvo</td>\n",
       "      <td>gas</td>\n",
       "      <td>turbo</td>\n",
       "      <td>four</td>\n",
       "      <td>sedan</td>\n",
       "      <td>rwd</td>\n",
       "      <td>front</td>\n",
       "      <td>ohc</td>\n",
       "      <td>four</td>\n",
       "      <td>3.78</td>\n",
       "      <td>5400</td>\n",
       "    </tr>\n",
       "  </tbody>\n",
       "</table>\n",
       "<p>205 rows × 12 columns</p>\n",
       "</div>"
      ],
      "text/plain": [
       "    normalized-losses         make fuel-type aspiration num-of-doors  \\\n",
       "0                   ?  alfa-romero       gas        std          two   \n",
       "1                   ?  alfa-romero       gas        std          two   \n",
       "2                   ?  alfa-romero       gas        std          two   \n",
       "3                 164         audi       gas        std         four   \n",
       "4                 164         audi       gas        std         four   \n",
       "..                ...          ...       ...        ...          ...   \n",
       "200                95        volvo       gas        std         four   \n",
       "201                95        volvo       gas      turbo         four   \n",
       "202                95        volvo       gas        std         four   \n",
       "203                95        volvo    diesel      turbo         four   \n",
       "204                95        volvo       gas      turbo         four   \n",
       "\n",
       "      body-style drive-wheels engine-location engine-type num-of-cylinders  \\\n",
       "0    convertible          rwd           front        dohc             four   \n",
       "1    convertible          rwd           front        dohc             four   \n",
       "2      hatchback          rwd           front        ohcv              six   \n",
       "3          sedan          fwd           front         ohc             four   \n",
       "4          sedan          4wd           front         ohc             five   \n",
       "..           ...          ...             ...         ...              ...   \n",
       "200        sedan          rwd           front         ohc             four   \n",
       "201        sedan          rwd           front         ohc             four   \n",
       "202        sedan          rwd           front        ohcv              six   \n",
       "203        sedan          rwd           front         ohc              six   \n",
       "204        sedan          rwd           front         ohc             four   \n",
       "\n",
       "     bore peak-rpm  \n",
       "0    3.47     5000  \n",
       "1    3.47     5000  \n",
       "2    2.68     5000  \n",
       "3    3.19     5500  \n",
       "4    3.19     5500  \n",
       "..    ...      ...  \n",
       "200  3.78     5400  \n",
       "201  3.78     5300  \n",
       "202  3.58     5500  \n",
       "203  3.01     4800  \n",
       "204  3.78     5400  \n",
       "\n",
       "[205 rows x 12 columns]"
      ]
     },
     "execution_count": 1111,
     "metadata": {},
     "output_type": "execute_result"
    }
   ],
   "source": [
    "data.loc[:,data.dtypes == \"object\"]"
   ]
  },
  {
   "cell_type": "markdown",
   "id": "3d9fb4fb",
   "metadata": {},
   "source": [
    "Feature Enginerring - Converting from Categorical to Numerical by using various methods as needed"
   ]
  },
  {
   "cell_type": "code",
   "execution_count": 1028,
   "id": "b2401615",
   "metadata": {},
   "outputs": [],
   "source": [
    "#We will do the similar steps as the \"Price\" for the other categorical feqatures since all of these need to be numeric "
   ]
  },
  {
   "cell_type": "code",
   "execution_count": 1112,
   "id": "cf773ac0",
   "metadata": {},
   "outputs": [
    {
     "data": {
      "text/plain": [
       "3.62    23\n",
       "3.19    20\n",
       "3.15    15\n",
       "3.03    12\n",
       "2.97    12\n",
       "3.46     9\n",
       "3.31     8\n",
       "3.78     8\n",
       "3.43     8\n",
       "3.27     7\n",
       "2.91     7\n",
       "3.39     6\n",
       "3.54     6\n",
       "3.05     6\n",
       "3.58     6\n",
       "3.7      5\n",
       "3.01     5\n",
       "3.35     4\n",
       "?        4\n",
       "3.17     3\n",
       "3.59     3\n",
       "3.74     3\n",
       "3.47     2\n",
       "3.94     2\n",
       "3.24     2\n",
       "3.13     2\n",
       "3.63     2\n",
       "3.5      2\n",
       "3.8      2\n",
       "3.33     2\n",
       "2.54     1\n",
       "3.08     1\n",
       "3.61     1\n",
       "3.34     1\n",
       "3.6      1\n",
       "2.92     1\n",
       "3.76     1\n",
       "2.68     1\n",
       "2.99     1\n",
       "Name: bore, dtype: int64"
      ]
     },
     "execution_count": 1112,
     "metadata": {},
     "output_type": "execute_result"
    }
   ],
   "source": [
    "data['bore'].value_counts()\n",
    "#It has four missing values"
   ]
  },
  {
   "cell_type": "code",
   "execution_count": 1113,
   "id": "e75a2ec7",
   "metadata": {},
   "outputs": [
    {
     "data": {
      "text/html": [
       "<div>\n",
       "<style scoped>\n",
       "    .dataframe tbody tr th:only-of-type {\n",
       "        vertical-align: middle;\n",
       "    }\n",
       "\n",
       "    .dataframe tbody tr th {\n",
       "        vertical-align: top;\n",
       "    }\n",
       "\n",
       "    .dataframe thead th {\n",
       "        text-align: right;\n",
       "    }\n",
       "</style>\n",
       "<table border=\"1\" class=\"dataframe\">\n",
       "  <thead>\n",
       "    <tr style=\"text-align: right;\">\n",
       "      <th></th>\n",
       "      <th>bore</th>\n",
       "      <th>peak-rpm</th>\n",
       "    </tr>\n",
       "  </thead>\n",
       "  <tbody>\n",
       "    <tr>\n",
       "      <th>55</th>\n",
       "      <td>?</td>\n",
       "      <td>6000</td>\n",
       "    </tr>\n",
       "    <tr>\n",
       "      <th>56</th>\n",
       "      <td>?</td>\n",
       "      <td>6000</td>\n",
       "    </tr>\n",
       "    <tr>\n",
       "      <th>57</th>\n",
       "      <td>?</td>\n",
       "      <td>6000</td>\n",
       "    </tr>\n",
       "    <tr>\n",
       "      <th>58</th>\n",
       "      <td>?</td>\n",
       "      <td>6000</td>\n",
       "    </tr>\n",
       "  </tbody>\n",
       "</table>\n",
       "</div>"
      ],
      "text/plain": [
       "   bore peak-rpm\n",
       "55    ?     6000\n",
       "56    ?     6000\n",
       "57    ?     6000\n",
       "58    ?     6000"
      ]
     },
     "execution_count": 1113,
     "metadata": {},
     "output_type": "execute_result"
    }
   ],
   "source": [
    "data[data[\"bore\"] ==\"?\"][[\"bore\",\"peak-rpm\"]]"
   ]
  },
  {
   "cell_type": "code",
   "execution_count": 1114,
   "id": "366aae0e",
   "metadata": {},
   "outputs": [],
   "source": [
    "data.loc[(57,58),\"bore\"] = 3.62\n",
    "data.loc[(55,56),\"bore\"] = 3.19"
   ]
  },
  {
   "cell_type": "code",
   "execution_count": 1115,
   "id": "ab33cc48",
   "metadata": {},
   "outputs": [
    {
     "data": {
      "text/plain": [
       "dtype('float64')"
      ]
     },
     "execution_count": 1115,
     "metadata": {},
     "output_type": "execute_result"
    }
   ],
   "source": [
    "data[\"bore\"] = pd.to_numeric(data[\"bore\"])\n",
    "data['bore'].dtype"
   ]
  },
  {
   "cell_type": "code",
   "execution_count": 1116,
   "id": "a518c225",
   "metadata": {},
   "outputs": [],
   "source": [
    "data.loc[(55,56,57,58),\"bore\"] = data[\"bore\"].median()"
   ]
  },
  {
   "cell_type": "code",
   "execution_count": 1117,
   "id": "5751d1eb",
   "metadata": {},
   "outputs": [
    {
     "data": {
      "text/plain": [
       "130    ?\n",
       "131    ?\n",
       "Name: peak-rpm, dtype: object"
      ]
     },
     "execution_count": 1117,
     "metadata": {},
     "output_type": "execute_result"
    }
   ],
   "source": [
    "data[data[\"peak-rpm\"] ==\"?\"][\"peak-rpm\"]"
   ]
  },
  {
   "cell_type": "code",
   "execution_count": 1118,
   "id": "737b25f7",
   "metadata": {},
   "outputs": [
    {
     "data": {
      "text/plain": [
       "5500    37\n",
       "4800    36\n",
       "5000    27\n",
       "5200    23\n",
       "5400    13\n",
       "6000     9\n",
       "5250     7\n",
       "4500     7\n",
       "5800     7\n",
       "4200     5\n",
       "4150     5\n",
       "4750     4\n",
       "4350     4\n",
       "5100     3\n",
       "4250     3\n",
       "5900     3\n",
       "4400     3\n",
       "?        2\n",
       "6600     2\n",
       "4650     1\n",
       "5600     1\n",
       "5750     1\n",
       "4900     1\n",
       "5300     1\n",
       "Name: peak-rpm, dtype: int64"
      ]
     },
     "execution_count": 1118,
     "metadata": {},
     "output_type": "execute_result"
    }
   ],
   "source": [
    "data['peak-rpm'].value_counts()"
   ]
  },
  {
   "cell_type": "code",
   "execution_count": 1119,
   "id": "93a097ef",
   "metadata": {},
   "outputs": [],
   "source": [
    "data.loc[data[\"peak-rpm\"] == \"?\",\"peak-rpm\"] = data[\"peak-rpm\"].mode()"
   ]
  },
  {
   "cell_type": "code",
   "execution_count": 1120,
   "id": "fe9dcdc6",
   "metadata": {},
   "outputs": [
    {
     "data": {
      "text/plain": [
       "dtype('float64')"
      ]
     },
     "execution_count": 1120,
     "metadata": {},
     "output_type": "execute_result"
    }
   ],
   "source": [
    "data[\"peak-rpm\"] = pd.to_numeric(data[\"peak-rpm\"])\n",
    "data['peak-rpm'].dtype"
   ]
  },
  {
   "cell_type": "code",
   "execution_count": 1328,
   "id": "68815047",
   "metadata": {},
   "outputs": [
    {
     "data": {
      "text/plain": [
       "5500.0"
      ]
     },
     "execution_count": 1328,
     "metadata": {},
     "output_type": "execute_result"
    }
   ],
   "source": [
    "modeRPM = data[\"peak-rpm\"].mode()\n",
    "modeRPM[0]"
   ]
  },
  {
   "cell_type": "code",
   "execution_count": 1331,
   "id": "c341907f",
   "metadata": {},
   "outputs": [],
   "source": [
    "data[\"peak-rpm\"].fillna(modeRPM[0],inplace= True)"
   ]
  },
  {
   "cell_type": "code",
   "execution_count": 1121,
   "id": "2df337ac",
   "metadata": {},
   "outputs": [
    {
     "data": {
      "text/html": [
       "<div>\n",
       "<style scoped>\n",
       "    .dataframe tbody tr th:only-of-type {\n",
       "        vertical-align: middle;\n",
       "    }\n",
       "\n",
       "    .dataframe tbody tr th {\n",
       "        vertical-align: top;\n",
       "    }\n",
       "\n",
       "    .dataframe thead th {\n",
       "        text-align: right;\n",
       "    }\n",
       "</style>\n",
       "<table border=\"1\" class=\"dataframe\">\n",
       "  <thead>\n",
       "    <tr style=\"text-align: right;\">\n",
       "      <th></th>\n",
       "      <th>normalized-losses</th>\n",
       "      <th>make</th>\n",
       "      <th>fuel-type</th>\n",
       "      <th>aspiration</th>\n",
       "      <th>num-of-doors</th>\n",
       "      <th>body-style</th>\n",
       "      <th>drive-wheels</th>\n",
       "      <th>engine-location</th>\n",
       "      <th>engine-type</th>\n",
       "      <th>num-of-cylinders</th>\n",
       "    </tr>\n",
       "  </thead>\n",
       "  <tbody>\n",
       "    <tr>\n",
       "      <th>0</th>\n",
       "      <td>?</td>\n",
       "      <td>alfa-romero</td>\n",
       "      <td>gas</td>\n",
       "      <td>std</td>\n",
       "      <td>two</td>\n",
       "      <td>convertible</td>\n",
       "      <td>rwd</td>\n",
       "      <td>front</td>\n",
       "      <td>dohc</td>\n",
       "      <td>four</td>\n",
       "    </tr>\n",
       "    <tr>\n",
       "      <th>1</th>\n",
       "      <td>?</td>\n",
       "      <td>alfa-romero</td>\n",
       "      <td>gas</td>\n",
       "      <td>std</td>\n",
       "      <td>two</td>\n",
       "      <td>convertible</td>\n",
       "      <td>rwd</td>\n",
       "      <td>front</td>\n",
       "      <td>dohc</td>\n",
       "      <td>four</td>\n",
       "    </tr>\n",
       "    <tr>\n",
       "      <th>2</th>\n",
       "      <td>?</td>\n",
       "      <td>alfa-romero</td>\n",
       "      <td>gas</td>\n",
       "      <td>std</td>\n",
       "      <td>two</td>\n",
       "      <td>hatchback</td>\n",
       "      <td>rwd</td>\n",
       "      <td>front</td>\n",
       "      <td>ohcv</td>\n",
       "      <td>six</td>\n",
       "    </tr>\n",
       "    <tr>\n",
       "      <th>3</th>\n",
       "      <td>164</td>\n",
       "      <td>audi</td>\n",
       "      <td>gas</td>\n",
       "      <td>std</td>\n",
       "      <td>four</td>\n",
       "      <td>sedan</td>\n",
       "      <td>fwd</td>\n",
       "      <td>front</td>\n",
       "      <td>ohc</td>\n",
       "      <td>four</td>\n",
       "    </tr>\n",
       "    <tr>\n",
       "      <th>4</th>\n",
       "      <td>164</td>\n",
       "      <td>audi</td>\n",
       "      <td>gas</td>\n",
       "      <td>std</td>\n",
       "      <td>four</td>\n",
       "      <td>sedan</td>\n",
       "      <td>4wd</td>\n",
       "      <td>front</td>\n",
       "      <td>ohc</td>\n",
       "      <td>five</td>\n",
       "    </tr>\n",
       "    <tr>\n",
       "      <th>...</th>\n",
       "      <td>...</td>\n",
       "      <td>...</td>\n",
       "      <td>...</td>\n",
       "      <td>...</td>\n",
       "      <td>...</td>\n",
       "      <td>...</td>\n",
       "      <td>...</td>\n",
       "      <td>...</td>\n",
       "      <td>...</td>\n",
       "      <td>...</td>\n",
       "    </tr>\n",
       "    <tr>\n",
       "      <th>200</th>\n",
       "      <td>95</td>\n",
       "      <td>volvo</td>\n",
       "      <td>gas</td>\n",
       "      <td>std</td>\n",
       "      <td>four</td>\n",
       "      <td>sedan</td>\n",
       "      <td>rwd</td>\n",
       "      <td>front</td>\n",
       "      <td>ohc</td>\n",
       "      <td>four</td>\n",
       "    </tr>\n",
       "    <tr>\n",
       "      <th>201</th>\n",
       "      <td>95</td>\n",
       "      <td>volvo</td>\n",
       "      <td>gas</td>\n",
       "      <td>turbo</td>\n",
       "      <td>four</td>\n",
       "      <td>sedan</td>\n",
       "      <td>rwd</td>\n",
       "      <td>front</td>\n",
       "      <td>ohc</td>\n",
       "      <td>four</td>\n",
       "    </tr>\n",
       "    <tr>\n",
       "      <th>202</th>\n",
       "      <td>95</td>\n",
       "      <td>volvo</td>\n",
       "      <td>gas</td>\n",
       "      <td>std</td>\n",
       "      <td>four</td>\n",
       "      <td>sedan</td>\n",
       "      <td>rwd</td>\n",
       "      <td>front</td>\n",
       "      <td>ohcv</td>\n",
       "      <td>six</td>\n",
       "    </tr>\n",
       "    <tr>\n",
       "      <th>203</th>\n",
       "      <td>95</td>\n",
       "      <td>volvo</td>\n",
       "      <td>diesel</td>\n",
       "      <td>turbo</td>\n",
       "      <td>four</td>\n",
       "      <td>sedan</td>\n",
       "      <td>rwd</td>\n",
       "      <td>front</td>\n",
       "      <td>ohc</td>\n",
       "      <td>six</td>\n",
       "    </tr>\n",
       "    <tr>\n",
       "      <th>204</th>\n",
       "      <td>95</td>\n",
       "      <td>volvo</td>\n",
       "      <td>gas</td>\n",
       "      <td>turbo</td>\n",
       "      <td>four</td>\n",
       "      <td>sedan</td>\n",
       "      <td>rwd</td>\n",
       "      <td>front</td>\n",
       "      <td>ohc</td>\n",
       "      <td>four</td>\n",
       "    </tr>\n",
       "  </tbody>\n",
       "</table>\n",
       "<p>205 rows × 10 columns</p>\n",
       "</div>"
      ],
      "text/plain": [
       "    normalized-losses         make fuel-type aspiration num-of-doors  \\\n",
       "0                   ?  alfa-romero       gas        std          two   \n",
       "1                   ?  alfa-romero       gas        std          two   \n",
       "2                   ?  alfa-romero       gas        std          two   \n",
       "3                 164         audi       gas        std         four   \n",
       "4                 164         audi       gas        std         four   \n",
       "..                ...          ...       ...        ...          ...   \n",
       "200                95        volvo       gas        std         four   \n",
       "201                95        volvo       gas      turbo         four   \n",
       "202                95        volvo       gas        std         four   \n",
       "203                95        volvo    diesel      turbo         four   \n",
       "204                95        volvo       gas      turbo         four   \n",
       "\n",
       "      body-style drive-wheels engine-location engine-type num-of-cylinders  \n",
       "0    convertible          rwd           front        dohc             four  \n",
       "1    convertible          rwd           front        dohc             four  \n",
       "2      hatchback          rwd           front        ohcv              six  \n",
       "3          sedan          fwd           front         ohc             four  \n",
       "4          sedan          4wd           front         ohc             five  \n",
       "..           ...          ...             ...         ...              ...  \n",
       "200        sedan          rwd           front         ohc             four  \n",
       "201        sedan          rwd           front         ohc             four  \n",
       "202        sedan          rwd           front        ohcv              six  \n",
       "203        sedan          rwd           front         ohc              six  \n",
       "204        sedan          rwd           front         ohc             four  \n",
       "\n",
       "[205 rows x 10 columns]"
      ]
     },
     "execution_count": 1121,
     "metadata": {},
     "output_type": "execute_result"
    }
   ],
   "source": [
    "data.loc[:,data.dtypes == \"object\"]"
   ]
  },
  {
   "cell_type": "code",
   "execution_count": 1122,
   "id": "7575b83c",
   "metadata": {},
   "outputs": [
    {
     "data": {
      "text/plain": [
       "[array(['diesel', 'gas'], dtype=object)]"
      ]
     },
     "execution_count": 1122,
     "metadata": {},
     "output_type": "execute_result"
    }
   ],
   "source": [
    "fuelType_ENC = OneHotEncoder(sparse = False,dtype = np.int32)\n",
    "fuelType = fuelType_ENC.fit_transform(data[[\"fuel-type\"]])\n",
    "fuelType_ENC.categories_"
   ]
  },
  {
   "cell_type": "code",
   "execution_count": 1123,
   "id": "b2ac2cac",
   "metadata": {},
   "outputs": [
    {
     "data": {
      "text/plain": [
       "205"
      ]
     },
     "execution_count": 1123,
     "metadata": {},
     "output_type": "execute_result"
    }
   ],
   "source": [
    "fuelType[:,0].size"
   ]
  },
  {
   "cell_type": "code",
   "execution_count": 1124,
   "id": "ba69a859",
   "metadata": {},
   "outputs": [],
   "source": [
    "data.insert(loc = 3,column=\"Diesel\",value = fuelType[:,0])\n",
    "data.insert(loc = 4,column=\"Gas\",value = fuelType[:,1])"
   ]
  },
  {
   "cell_type": "code",
   "execution_count": 1125,
   "id": "e68ede24",
   "metadata": {},
   "outputs": [],
   "source": [
    "data.drop(\"fuel-type\",axis =1 , inplace = True)"
   ]
  },
  {
   "cell_type": "code",
   "execution_count": 1126,
   "id": "e93b077a",
   "metadata": {},
   "outputs": [
    {
     "data": {
      "text/plain": [
       "[array(['std', 'turbo'], dtype=object)]"
      ]
     },
     "execution_count": 1126,
     "metadata": {},
     "output_type": "execute_result"
    }
   ],
   "source": [
    "aspiration_ENC = OneHotEncoder(sparse = False,dtype = np.int32)\n",
    "aspiration = aspiration_ENC.fit_transform(data[[\"aspiration\"]])\n",
    "aspiration_ENC.categories_"
   ]
  },
  {
   "cell_type": "code",
   "execution_count": 1127,
   "id": "68570fc1",
   "metadata": {},
   "outputs": [],
   "source": [
    "data.insert(loc = 5,column=\"Std\",value = aspiration[:,0])\n",
    "data.insert(loc = 6,column=\"Turbo\",value = aspiration[:,1])"
   ]
  },
  {
   "cell_type": "code",
   "execution_count": 1128,
   "id": "6a80c3e6",
   "metadata": {},
   "outputs": [],
   "source": [
    "data.drop(\"aspiration\",axis =1 , inplace = True)"
   ]
  },
  {
   "cell_type": "code",
   "execution_count": 1129,
   "id": "9f988e96",
   "metadata": {},
   "outputs": [
    {
     "data": {
      "text/plain": [
       "[array(['convertible', 'hardtop', 'hatchback', 'sedan', 'wagon'],\n",
       "       dtype=object)]"
      ]
     },
     "execution_count": 1129,
     "metadata": {},
     "output_type": "execute_result"
    }
   ],
   "source": [
    "bodyStyle_ENC = OneHotEncoder(sparse = False,dtype = np.int32)\n",
    "bodyStyle = bodyStyle_ENC.fit_transform(data[[\"body-style\"]])\n",
    "bodyStyle_ENC.categories_"
   ]
  },
  {
   "cell_type": "code",
   "execution_count": 1130,
   "id": "91feba64",
   "metadata": {},
   "outputs": [],
   "source": [
    "data.insert(loc = 8,column=\"Convertible\",value = bodyStyle[:,0])\n",
    "data.insert(loc = 9,column=\"Hardtop\",value = bodyStyle[:,1])\n",
    "data.insert(loc = 10,column=\"Hatchback\",value = bodyStyle[:,2])\n",
    "data.insert(loc = 11,column=\"Sedan\",value = bodyStyle[:,3])\n",
    "data.insert(loc = 12,column=\"Wagon\",value = bodyStyle[:,4])"
   ]
  },
  {
   "cell_type": "code",
   "execution_count": 1131,
   "id": "72bb3ff0",
   "metadata": {},
   "outputs": [],
   "source": [
    "data.drop(\"body-style\",axis =1 , inplace = True)"
   ]
  },
  {
   "cell_type": "code",
   "execution_count": 1132,
   "id": "6e842ed2",
   "metadata": {},
   "outputs": [],
   "source": [
    "data.loc[data[\"num-of-doors\"] == \"?\",\"num-of-doors\"] = data[\"num-of-doors\"].mode()"
   ]
  },
  {
   "cell_type": "code",
   "execution_count": 1133,
   "id": "7491e019",
   "metadata": {},
   "outputs": [
    {
     "data": {
      "text/plain": [
       "four    114\n",
       "two      89\n",
       "Name: num-of-doors, dtype: int64"
      ]
     },
     "execution_count": 1133,
     "metadata": {},
     "output_type": "execute_result"
    }
   ],
   "source": [
    "data[\"num-of-doors\"].value_counts()"
   ]
  },
  {
   "cell_type": "code",
   "execution_count": 1134,
   "id": "4744ae54",
   "metadata": {},
   "outputs": [
    {
     "data": {
      "text/plain": [
       "2"
      ]
     },
     "execution_count": 1134,
     "metadata": {},
     "output_type": "execute_result"
    }
   ],
   "source": [
    "data[\"num-of-doors\"].isna().sum()"
   ]
  },
  {
   "cell_type": "code",
   "execution_count": 1135,
   "id": "d6329940",
   "metadata": {},
   "outputs": [
    {
     "data": {
      "text/plain": [
       "'four'"
      ]
     },
     "execution_count": 1135,
     "metadata": {},
     "output_type": "execute_result"
    }
   ],
   "source": [
    "modeVal = data[\"num-of-doors\"].mode()\n",
    "modeVal[0]"
   ]
  },
  {
   "cell_type": "code",
   "execution_count": 1136,
   "id": "33c97e0b",
   "metadata": {},
   "outputs": [],
   "source": [
    "data[\"num-of-doors\"].fillna(value = modeVal[0],inplace = True)"
   ]
  },
  {
   "cell_type": "code",
   "execution_count": 1137,
   "id": "11f3a202",
   "metadata": {},
   "outputs": [
    {
     "data": {
      "text/plain": [
       "[array(['four', 'two'], dtype=object)]"
      ]
     },
     "execution_count": 1137,
     "metadata": {},
     "output_type": "execute_result"
    }
   ],
   "source": [
    "noOfDoors_ENC = OneHotEncoder(sparse = False,dtype = np.int32)\n",
    "noOfDoors = noOfDoors_ENC.fit_transform(data[[\"num-of-doors\"]])\n",
    "noOfDoors_ENC.categories_"
   ]
  },
  {
   "cell_type": "code",
   "execution_count": 1138,
   "id": "86791ea0",
   "metadata": {},
   "outputs": [],
   "source": [
    "data.insert(loc = 7,column=\"Four_door\",value = noOfDoors[:,0])\n",
    "data.insert(loc = 8,column=\"Two_door\",value = noOfDoors[:,1])"
   ]
  },
  {
   "cell_type": "code",
   "execution_count": 1139,
   "id": "3d99faf1",
   "metadata": {},
   "outputs": [],
   "source": [
    "data.drop(\"num-of-doors\",axis =1 , inplace = True)"
   ]
  },
  {
   "cell_type": "code",
   "execution_count": 1140,
   "id": "22d0a33d",
   "metadata": {},
   "outputs": [
    {
     "data": {
      "text/plain": [
       "[array(['4wd', 'fwd', 'rwd'], dtype=object)]"
      ]
     },
     "execution_count": 1140,
     "metadata": {},
     "output_type": "execute_result"
    }
   ],
   "source": [
    "driveWheels_ENC = OneHotEncoder(sparse = False,dtype = np.int32)\n",
    "driveWheels = driveWheels_ENC.fit_transform(data[[\"drive-wheels\"]])\n",
    "driveWheels_ENC.categories_"
   ]
  },
  {
   "cell_type": "code",
   "execution_count": 1141,
   "id": "806d2499",
   "metadata": {},
   "outputs": [],
   "source": [
    "data.insert(loc = 7,column=\"4WD\",value = driveWheels[:,0])\n",
    "data.insert(loc = 8,column=\"FWD\",value = driveWheels[:,1])\n",
    "data.insert(loc = 9,column =\"RWD\",value = driveWheels[:,2])"
   ]
  },
  {
   "cell_type": "code",
   "execution_count": 1142,
   "id": "ae7c87be",
   "metadata": {},
   "outputs": [],
   "source": [
    "data.drop(\"drive-wheels\",axis =1 , inplace = True)"
   ]
  },
  {
   "cell_type": "code",
   "execution_count": 1143,
   "id": "fa7142f1",
   "metadata": {},
   "outputs": [
    {
     "data": {
      "text/plain": [
       "0"
      ]
     },
     "execution_count": 1143,
     "metadata": {},
     "output_type": "execute_result"
    }
   ],
   "source": [
    "data['num-of-cylinders'].isna().sum()\n",
    "#\"num_cylinders\": {\"four\": 4, \"six\": 6, \"five\": 5, \"eight\": 8,\n",
    "                                 # \"two\": 2, \"twelve\": 12, \"three\":3 }}"
   ]
  },
  {
   "cell_type": "code",
   "execution_count": 1144,
   "id": "9e23e5b3",
   "metadata": {},
   "outputs": [
    {
     "data": {
      "text/plain": [
       "four      159\n",
       "six        24\n",
       "five       11\n",
       "eight       5\n",
       "two         4\n",
       "three       1\n",
       "twelve      1\n",
       "Name: num-of-cylinders, dtype: int64"
      ]
     },
     "execution_count": 1144,
     "metadata": {},
     "output_type": "execute_result"
    }
   ],
   "source": [
    "data['num-of-cylinders'].value_counts()"
   ]
  },
  {
   "cell_type": "code",
   "execution_count": 1145,
   "id": "b9e7ab8f",
   "metadata": {},
   "outputs": [],
   "source": [
    "cylinderMap = {\"num-of-cylinders\": {\"four\": 4, \"six\": 6, \"five\": 5, \"eight\": 8,\n",
    "                                  \"two\": 2, \"twelve\": 12, \"three\":3 }}"
   ]
  },
  {
   "cell_type": "code",
   "execution_count": 1146,
   "id": "edb4e6f6",
   "metadata": {},
   "outputs": [],
   "source": [
    "data.replace(cylinderMap,inplace = True)"
   ]
  },
  {
   "cell_type": "code",
   "execution_count": 1147,
   "id": "67139ec8",
   "metadata": {},
   "outputs": [
    {
     "data": {
      "text/plain": [
       "4     159\n",
       "6      24\n",
       "5      11\n",
       "8       5\n",
       "2       4\n",
       "3       1\n",
       "12      1\n",
       "Name: num-of-cylinders, dtype: int64"
      ]
     },
     "execution_count": 1147,
     "metadata": {},
     "output_type": "execute_result"
    }
   ],
   "source": [
    "data['num-of-cylinders'].value_counts()"
   ]
  },
  {
   "cell_type": "code",
   "execution_count": 1148,
   "id": "598f260f",
   "metadata": {},
   "outputs": [
    {
     "data": {
      "text/plain": [
       "?      41\n",
       "161    11\n",
       "91      8\n",
       "150     7\n",
       "134     6\n",
       "128     6\n",
       "104     6\n",
       "85      5\n",
       "94      5\n",
       "65      5\n",
       "102     5\n",
       "74      5\n",
       "168     5\n",
       "103     5\n",
       "95      5\n",
       "106     4\n",
       "93      4\n",
       "118     4\n",
       "148     4\n",
       "122     4\n",
       "83      3\n",
       "125     3\n",
       "154     3\n",
       "115     3\n",
       "137     3\n",
       "101     3\n",
       "119     2\n",
       "87      2\n",
       "89      2\n",
       "192     2\n",
       "197     2\n",
       "158     2\n",
       "81      2\n",
       "188     2\n",
       "194     2\n",
       "153     2\n",
       "129     2\n",
       "108     2\n",
       "110     2\n",
       "164     2\n",
       "145     2\n",
       "113     2\n",
       "256     1\n",
       "107     1\n",
       "90      1\n",
       "231     1\n",
       "142     1\n",
       "121     1\n",
       "78      1\n",
       "98      1\n",
       "186     1\n",
       "77      1\n",
       "Name: normalized-losses, dtype: int64"
      ]
     },
     "execution_count": 1148,
     "metadata": {},
     "output_type": "execute_result"
    }
   ],
   "source": [
    "#Dropping this feature since most of the values in this feature are unknown \"?\"\n",
    "data[\"normalized-losses\"].value_counts()"
   ]
  },
  {
   "cell_type": "code",
   "execution_count": 1160,
   "id": "b873b299",
   "metadata": {},
   "outputs": [],
   "source": [
    "data.drop(\"normalized-losses\",axis =1 , inplace = True)"
   ]
  },
  {
   "cell_type": "code",
   "execution_count": 1149,
   "id": "b98defb4",
   "metadata": {},
   "outputs": [
    {
     "data": {
      "text/plain": [
       "[array(['alfa-romero', 'audi', 'bmw', 'chevrolet', 'dodge', 'honda',\n",
       "        'isuzu', 'jaguar', 'mazda', 'mercedes-benz', 'mercury',\n",
       "        'mitsubishi', 'nissan', 'peugot', 'plymouth', 'porsche', 'renault',\n",
       "        'saab', 'subaru', 'toyota', 'volkswagen', 'volvo'], dtype=object)]"
      ]
     },
     "execution_count": 1149,
     "metadata": {},
     "output_type": "execute_result"
    }
   ],
   "source": [
    "make_ENC = OneHotEncoder(sparse = False,dtype = np.int32)\n",
    "make = make_ENC.fit_transform(data[[\"make\"]])\n",
    "make_ENC.categories_"
   ]
  },
  {
   "cell_type": "code",
   "execution_count": 1150,
   "id": "ccc48749",
   "metadata": {},
   "outputs": [],
   "source": [
    "data.insert(loc = 7,column=\"alfa-romero\",value = make[:,0])\n",
    "data.insert(loc = 8,column=\"audi\",value = make[:,1])\n",
    "data.insert(loc = 9,column =\"bmw\",value = make[:,2])\n",
    "data.insert(loc = 10,column=\"chevrolet\",value = make[:,3])\n",
    "data.insert(loc = 11,column=\"dodge\",value = make[:,4])\n",
    "data.insert(loc = 12,column =\"honda\",value = make[:,5])\n",
    "data.insert(loc = 13,column=\"isuzu\",value = make[:,6])\n",
    "data.insert(loc = 14,column=\"jaguar\",value = make[:,7])\n",
    "data.insert(loc = 15,column =\"mazda\",value = make[:,8])\n",
    "data.insert(loc = 16,column=\"mercedes_benz\",value = make[:,9])\n",
    "data.insert(loc = 17,column=\"mercury\",value = make[:,10])\n",
    "data.insert(loc = 18,column =\"mitsubishi\",value = make[:,11])\n",
    "data.insert(loc = 19,column=\"nissan\",value = make[:,12])\n",
    "data.insert(loc = 20,column=\"peugot\",value = make[:,13])\n",
    "data.insert(loc = 21,column =\"plymouth\",value = make[:,14])\n",
    "data.insert(loc = 22,column=\"porsche\",value = make[:,15])\n",
    "data.insert(loc = 23,column=\"renault\",value = make[:,16])\n",
    "data.insert(loc = 24,column =\"saab\",value = make[:,17])\n",
    "data.insert(loc = 25,column=\"subaru\",value = make[:,18])\n",
    "data.insert(loc = 26,column=\"toyota\",value = make[:,19])\n",
    "data.insert(loc = 27,column =\"volkswagen\",value = make[:,20])\n",
    "data.insert(loc = 28,column=\"volvo\",value = make[:,21])"
   ]
  },
  {
   "cell_type": "code",
   "execution_count": 1151,
   "id": "e2c54af0",
   "metadata": {},
   "outputs": [],
   "source": [
    "data.drop(\"make\",axis =1 , inplace = True)"
   ]
  },
  {
   "cell_type": "code",
   "execution_count": 1152,
   "id": "e827f36d",
   "metadata": {},
   "outputs": [
    {
     "data": {
      "text/plain": [
       "front    202\n",
       "rear       3\n",
       "Name: engine-location, dtype: int64"
      ]
     },
     "execution_count": 1152,
     "metadata": {},
     "output_type": "execute_result"
    }
   ],
   "source": [
    "data[\"engine-location\"].value_counts()\n",
    "#Since only 3 of the records have rear this feature wont make much difference in the overall vairation of the target variable\n",
    "#Hence dropping the feature for now."
   ]
  },
  {
   "cell_type": "code",
   "execution_count": 1159,
   "id": "6d547545",
   "metadata": {},
   "outputs": [],
   "source": [
    "data.drop(\"engine-location\",axis = 1,inplace = True)"
   ]
  },
  {
   "cell_type": "code",
   "execution_count": 1153,
   "id": "2c4990e5",
   "metadata": {},
   "outputs": [
    {
     "data": {
      "text/plain": [
       "ohc      148\n",
       "ohcf      15\n",
       "ohcv      13\n",
       "dohc      12\n",
       "l         12\n",
       "rotor      4\n",
       "dohcv      1\n",
       "Name: engine-type, dtype: int64"
      ]
     },
     "execution_count": 1153,
     "metadata": {},
     "output_type": "execute_result"
    }
   ],
   "source": [
    "data[\"engine-type\"].value_counts()"
   ]
  },
  {
   "cell_type": "code",
   "execution_count": 1154,
   "id": "032f87d7",
   "metadata": {},
   "outputs": [
    {
     "data": {
      "text/plain": [
       "[array(['dohc', 'dohcv', 'l', 'ohc', 'ohcf', 'ohcv', 'rotor'], dtype=object)]"
      ]
     },
     "execution_count": 1154,
     "metadata": {},
     "output_type": "execute_result"
    }
   ],
   "source": [
    "engineType_ENC = OneHotEncoder(sparse = False,dtype = np.int32)\n",
    "engineType = engineType_ENC.fit_transform(data[[\"engine-type\"]])\n",
    "engineType_ENC.categories_"
   ]
  },
  {
   "cell_type": "code",
   "execution_count": 1155,
   "id": "91951bd5",
   "metadata": {},
   "outputs": [],
   "source": [
    "data.insert(loc = 29,column=\"dohc\",value = engineType[:,0])\n",
    "data.insert(loc = 30,column=\"dohcv\",value = engineType[:,1])\n",
    "data.insert(loc = 31,column =\"l\",value = engineType[:,2])\n",
    "data.insert(loc = 32,column=\"ohc\",value = engineType[:,3])\n",
    "data.insert(loc = 33,column=\"ohcf\",value = engineType[:,4])\n",
    "data.insert(loc = 34,column =\"ohcv\",value = engineType[:,5])\n",
    "data.insert(loc = 35,column=\"rotor\",value = engineType[:,6])"
   ]
  },
  {
   "cell_type": "code",
   "execution_count": 1156,
   "id": "efe6d758",
   "metadata": {},
   "outputs": [],
   "source": [
    "data.drop(\"engine-type\",axis =1 , inplace = True)"
   ]
  },
  {
   "cell_type": "code",
   "execution_count": 1165,
   "id": "430c2fda",
   "metadata": {},
   "outputs": [
    {
     "data": {
      "text/plain": [
       "(205, 55)"
      ]
     },
     "execution_count": 1165,
     "metadata": {},
     "output_type": "execute_result"
    }
   ],
   "source": [
    "data.shape"
   ]
  },
  {
   "cell_type": "code",
   "execution_count": 891,
   "id": "68e8fcd5",
   "metadata": {},
   "outputs": [
    {
     "data": {
      "text/plain": [
       "29"
      ]
     },
     "execution_count": 891,
     "metadata": {},
     "output_type": "execute_result"
    }
   ],
   "source": [
    "temp = finalCorr.loc[finalCorr[\"price\"] > abs(0.05),[\"price\"]]\n",
    "temp.shape[0]"
   ]
  },
  {
   "cell_type": "code",
   "execution_count": 1361,
   "id": "032ffff5",
   "metadata": {},
   "outputs": [
    {
     "data": {
      "text/html": [
       "<div>\n",
       "<style scoped>\n",
       "    .dataframe tbody tr th:only-of-type {\n",
       "        vertical-align: middle;\n",
       "    }\n",
       "\n",
       "    .dataframe tbody tr th {\n",
       "        vertical-align: top;\n",
       "    }\n",
       "\n",
       "    .dataframe thead th {\n",
       "        text-align: right;\n",
       "    }\n",
       "</style>\n",
       "<table border=\"1\" class=\"dataframe\">\n",
       "  <thead>\n",
       "    <tr style=\"text-align: right;\">\n",
       "      <th></th>\n",
       "      <th>Diesel</th>\n",
       "      <th>Gas</th>\n",
       "      <th>Std</th>\n",
       "      <th>Turbo</th>\n",
       "      <th>Four_door</th>\n",
       "      <th>alfa-romero</th>\n",
       "      <th>audi</th>\n",
       "      <th>bmw</th>\n",
       "      <th>chevrolet</th>\n",
       "      <th>dodge</th>\n",
       "      <th>...</th>\n",
       "      <th>length</th>\n",
       "      <th>width</th>\n",
       "      <th>height</th>\n",
       "      <th>curb-weight</th>\n",
       "      <th>num-of-cylinders</th>\n",
       "      <th>engine-size</th>\n",
       "      <th>bore</th>\n",
       "      <th>peak-rpm</th>\n",
       "      <th>city-mpg</th>\n",
       "      <th>highway-mpg</th>\n",
       "    </tr>\n",
       "  </thead>\n",
       "  <tbody>\n",
       "    <tr>\n",
       "      <th>0</th>\n",
       "      <td>0</td>\n",
       "      <td>1</td>\n",
       "      <td>1</td>\n",
       "      <td>0</td>\n",
       "      <td>0</td>\n",
       "      <td>1</td>\n",
       "      <td>0</td>\n",
       "      <td>0</td>\n",
       "      <td>0</td>\n",
       "      <td>0</td>\n",
       "      <td>...</td>\n",
       "      <td>168.8</td>\n",
       "      <td>64.1</td>\n",
       "      <td>48.8</td>\n",
       "      <td>2548</td>\n",
       "      <td>4</td>\n",
       "      <td>130</td>\n",
       "      <td>3.47</td>\n",
       "      <td>5000.0</td>\n",
       "      <td>21</td>\n",
       "      <td>27</td>\n",
       "    </tr>\n",
       "    <tr>\n",
       "      <th>1</th>\n",
       "      <td>0</td>\n",
       "      <td>1</td>\n",
       "      <td>1</td>\n",
       "      <td>0</td>\n",
       "      <td>0</td>\n",
       "      <td>1</td>\n",
       "      <td>0</td>\n",
       "      <td>0</td>\n",
       "      <td>0</td>\n",
       "      <td>0</td>\n",
       "      <td>...</td>\n",
       "      <td>168.8</td>\n",
       "      <td>64.1</td>\n",
       "      <td>48.8</td>\n",
       "      <td>2548</td>\n",
       "      <td>4</td>\n",
       "      <td>130</td>\n",
       "      <td>3.47</td>\n",
       "      <td>5000.0</td>\n",
       "      <td>21</td>\n",
       "      <td>27</td>\n",
       "    </tr>\n",
       "    <tr>\n",
       "      <th>2</th>\n",
       "      <td>0</td>\n",
       "      <td>1</td>\n",
       "      <td>1</td>\n",
       "      <td>0</td>\n",
       "      <td>0</td>\n",
       "      <td>1</td>\n",
       "      <td>0</td>\n",
       "      <td>0</td>\n",
       "      <td>0</td>\n",
       "      <td>0</td>\n",
       "      <td>...</td>\n",
       "      <td>171.2</td>\n",
       "      <td>65.5</td>\n",
       "      <td>52.4</td>\n",
       "      <td>2823</td>\n",
       "      <td>6</td>\n",
       "      <td>152</td>\n",
       "      <td>2.68</td>\n",
       "      <td>5000.0</td>\n",
       "      <td>19</td>\n",
       "      <td>26</td>\n",
       "    </tr>\n",
       "    <tr>\n",
       "      <th>3</th>\n",
       "      <td>0</td>\n",
       "      <td>1</td>\n",
       "      <td>1</td>\n",
       "      <td>0</td>\n",
       "      <td>1</td>\n",
       "      <td>0</td>\n",
       "      <td>1</td>\n",
       "      <td>0</td>\n",
       "      <td>0</td>\n",
       "      <td>0</td>\n",
       "      <td>...</td>\n",
       "      <td>176.6</td>\n",
       "      <td>66.2</td>\n",
       "      <td>54.3</td>\n",
       "      <td>2337</td>\n",
       "      <td>4</td>\n",
       "      <td>109</td>\n",
       "      <td>3.19</td>\n",
       "      <td>5500.0</td>\n",
       "      <td>24</td>\n",
       "      <td>30</td>\n",
       "    </tr>\n",
       "    <tr>\n",
       "      <th>4</th>\n",
       "      <td>0</td>\n",
       "      <td>1</td>\n",
       "      <td>1</td>\n",
       "      <td>0</td>\n",
       "      <td>1</td>\n",
       "      <td>0</td>\n",
       "      <td>1</td>\n",
       "      <td>0</td>\n",
       "      <td>0</td>\n",
       "      <td>0</td>\n",
       "      <td>...</td>\n",
       "      <td>176.6</td>\n",
       "      <td>66.4</td>\n",
       "      <td>54.3</td>\n",
       "      <td>2824</td>\n",
       "      <td>5</td>\n",
       "      <td>136</td>\n",
       "      <td>3.19</td>\n",
       "      <td>5500.0</td>\n",
       "      <td>18</td>\n",
       "      <td>22</td>\n",
       "    </tr>\n",
       "  </tbody>\n",
       "</table>\n",
       "<p>5 rows × 54 columns</p>\n",
       "</div>"
      ],
      "text/plain": [
       "   Diesel  Gas  Std  Turbo  Four_door  alfa-romero  audi  bmw  chevrolet  \\\n",
       "0       0    1    1      0          0            1     0    0          0   \n",
       "1       0    1    1      0          0            1     0    0          0   \n",
       "2       0    1    1      0          0            1     0    0          0   \n",
       "3       0    1    1      0          1            0     1    0          0   \n",
       "4       0    1    1      0          1            0     1    0          0   \n",
       "\n",
       "   dodge  ...  length  width  height  curb-weight  num-of-cylinders  \\\n",
       "0      0  ...   168.8   64.1    48.8         2548                 4   \n",
       "1      0  ...   168.8   64.1    48.8         2548                 4   \n",
       "2      0  ...   171.2   65.5    52.4         2823                 6   \n",
       "3      0  ...   176.6   66.2    54.3         2337                 4   \n",
       "4      0  ...   176.6   66.4    54.3         2824                 5   \n",
       "\n",
       "   engine-size  bore  peak-rpm  city-mpg  highway-mpg  \n",
       "0          130  3.47    5000.0        21           27  \n",
       "1          130  3.47    5000.0        21           27  \n",
       "2          152  2.68    5000.0        19           26  \n",
       "3          109  3.19    5500.0        24           30  \n",
       "4          136  3.19    5500.0        18           22  \n",
       "\n",
       "[5 rows x 54 columns]"
      ]
     },
     "execution_count": 1361,
     "metadata": {},
     "output_type": "execute_result"
    }
   ],
   "source": [
    "y = data[\"price\"]\n",
    "X = data.loc[:,[col for col in data.columns]]\n",
    "X.drop(\"price\",axis = 1 , inplace = True)\n",
    "X.head()"
   ]
  },
  {
   "cell_type": "code",
   "execution_count": 1362,
   "id": "fc7cfaa5",
   "metadata": {},
   "outputs": [],
   "source": [
    "X_train,X_test,y_train,y_test = train_test_split(X,y,test_size = 0.2,random_state = 5)"
   ]
  },
  {
   "cell_type": "code",
   "execution_count": 1363,
   "id": "717a8ebd",
   "metadata": {},
   "outputs": [
    {
     "data": {
      "text/plain": [
       "['wheel-base',\n",
       " 'length',\n",
       " 'width',\n",
       " 'height',\n",
       " 'curb-weight',\n",
       " 'engine-size',\n",
       " 'city-mpg',\n",
       " 'highway-mpg',\n",
       " 'price']"
      ]
     },
     "execution_count": 1363,
     "metadata": {},
     "output_type": "execute_result"
    }
   ],
   "source": [
    "numericFeaturesList = list(numericFeatures)\n",
    "#X.loc[:,numericFeatures]\n",
    "numericFeaturesList"
   ]
  },
  {
   "cell_type": "code",
   "execution_count": 1364,
   "id": "097a01fd",
   "metadata": {},
   "outputs": [
    {
     "data": {
      "text/plain": [
       "'price'"
      ]
     },
     "execution_count": 1364,
     "metadata": {},
     "output_type": "execute_result"
    }
   ],
   "source": [
    "numericFeaturesList.pop()"
   ]
  },
  {
   "cell_type": "code",
   "execution_count": 1365,
   "id": "ff0e6ba7",
   "metadata": {},
   "outputs": [
    {
     "data": {
      "text/html": [
       "<div>\n",
       "<style scoped>\n",
       "    .dataframe tbody tr th:only-of-type {\n",
       "        vertical-align: middle;\n",
       "    }\n",
       "\n",
       "    .dataframe tbody tr th {\n",
       "        vertical-align: top;\n",
       "    }\n",
       "\n",
       "    .dataframe thead th {\n",
       "        text-align: right;\n",
       "    }\n",
       "</style>\n",
       "<table border=\"1\" class=\"dataframe\">\n",
       "  <thead>\n",
       "    <tr style=\"text-align: right;\">\n",
       "      <th></th>\n",
       "      <th>wheel-base</th>\n",
       "      <th>length</th>\n",
       "      <th>width</th>\n",
       "      <th>height</th>\n",
       "      <th>curb-weight</th>\n",
       "      <th>engine-size</th>\n",
       "      <th>city-mpg</th>\n",
       "      <th>highway-mpg</th>\n",
       "    </tr>\n",
       "  </thead>\n",
       "  <tbody>\n",
       "    <tr>\n",
       "      <th>46</th>\n",
       "      <td>96.0</td>\n",
       "      <td>172.6</td>\n",
       "      <td>65.2</td>\n",
       "      <td>51.4</td>\n",
       "      <td>2734</td>\n",
       "      <td>119</td>\n",
       "      <td>24</td>\n",
       "      <td>29</td>\n",
       "    </tr>\n",
       "    <tr>\n",
       "      <th>183</th>\n",
       "      <td>97.3</td>\n",
       "      <td>171.7</td>\n",
       "      <td>65.5</td>\n",
       "      <td>55.7</td>\n",
       "      <td>2209</td>\n",
       "      <td>109</td>\n",
       "      <td>27</td>\n",
       "      <td>34</td>\n",
       "    </tr>\n",
       "    <tr>\n",
       "      <th>98</th>\n",
       "      <td>95.1</td>\n",
       "      <td>162.4</td>\n",
       "      <td>63.8</td>\n",
       "      <td>53.3</td>\n",
       "      <td>2008</td>\n",
       "      <td>97</td>\n",
       "      <td>31</td>\n",
       "      <td>37</td>\n",
       "    </tr>\n",
       "    <tr>\n",
       "      <th>197</th>\n",
       "      <td>104.3</td>\n",
       "      <td>188.8</td>\n",
       "      <td>67.2</td>\n",
       "      <td>57.5</td>\n",
       "      <td>3042</td>\n",
       "      <td>141</td>\n",
       "      <td>24</td>\n",
       "      <td>28</td>\n",
       "    </tr>\n",
       "    <tr>\n",
       "      <th>101</th>\n",
       "      <td>100.4</td>\n",
       "      <td>181.7</td>\n",
       "      <td>66.5</td>\n",
       "      <td>55.1</td>\n",
       "      <td>3095</td>\n",
       "      <td>181</td>\n",
       "      <td>17</td>\n",
       "      <td>22</td>\n",
       "    </tr>\n",
       "  </tbody>\n",
       "</table>\n",
       "</div>"
      ],
      "text/plain": [
       "     wheel-base  length  width  height  curb-weight  engine-size  city-mpg  \\\n",
       "46         96.0   172.6   65.2    51.4         2734          119        24   \n",
       "183        97.3   171.7   65.5    55.7         2209          109        27   \n",
       "98         95.1   162.4   63.8    53.3         2008           97        31   \n",
       "197       104.3   188.8   67.2    57.5         3042          141        24   \n",
       "101       100.4   181.7   66.5    55.1         3095          181        17   \n",
       "\n",
       "     highway-mpg  \n",
       "46            29  \n",
       "183           34  \n",
       "98            37  \n",
       "197           28  \n",
       "101           22  "
      ]
     },
     "execution_count": 1365,
     "metadata": {},
     "output_type": "execute_result"
    }
   ],
   "source": [
    "numX_train = X_train.loc[:,numericFeaturesList]\n",
    "numX_train.head()"
   ]
  },
  {
   "cell_type": "raw",
   "id": "71ea61a8",
   "metadata": {},
   "source": [
    "numX_test = X_test.loc[:,numericFeaturesList]\n",
    "numX_test.head()"
   ]
  },
  {
   "cell_type": "code",
   "execution_count": 1366,
   "id": "cfe2f25a",
   "metadata": {},
   "outputs": [
    {
     "data": {
      "text/plain": [
       "(164,)"
      ]
     },
     "execution_count": 1366,
     "metadata": {},
     "output_type": "execute_result"
    }
   ],
   "source": [
    "stdScaler = StandardScaler()\n",
    "tr_NumX_train = stdScaler.fit_transform(numX_train)\n",
    "tr_NumX_test = stdScaler.transform(numX_test)\n",
    "tr_NumX_train[:,0].shape"
   ]
  },
  {
   "cell_type": "code",
   "execution_count": 1367,
   "id": "4ab5028f",
   "metadata": {},
   "outputs": [],
   "source": [
    "X_train.drop(numericFeaturesList,axis =1 , inplace = True)\n",
    "X_test.drop(numericFeaturesList,axis =1 , inplace = True)"
   ]
  },
  {
   "cell_type": "code",
   "execution_count": 1368,
   "id": "80399cd2",
   "metadata": {},
   "outputs": [
    {
     "data": {
      "text/plain": [
       "(164, 8)"
      ]
     },
     "execution_count": 1368,
     "metadata": {},
     "output_type": "execute_result"
    }
   ],
   "source": [
    "tr_NumdfXtrain = pd.DataFrame(tr_NumX_train)\n",
    "tr_NumdfXtest = pd.DataFrame(tr_NumX_test)\n",
    "tr_NumdfXtrain.shape"
   ]
  },
  {
   "cell_type": "code",
   "execution_count": 1369,
   "id": "b63b3e07",
   "metadata": {},
   "outputs": [
    {
     "data": {
      "text/plain": [
       "(164, 46)"
      ]
     },
     "execution_count": 1369,
     "metadata": {},
     "output_type": "execute_result"
    }
   ],
   "source": [
    "X_train.shape"
   ]
  },
  {
   "cell_type": "code",
   "execution_count": 1370,
   "id": "809e76eb",
   "metadata": {},
   "outputs": [],
   "source": [
    "for i in range(8):\n",
    "    X_train.insert(loc = i,column=str(i),value = tr_NumX_train[:,i])"
   ]
  },
  {
   "cell_type": "code",
   "execution_count": 1371,
   "id": "cabc34f3",
   "metadata": {},
   "outputs": [],
   "source": [
    "for i in range(8):\n",
    "    X_test.insert(loc = i,column=str(i),value = tr_NumX_test[:,i])"
   ]
  },
  {
   "cell_type": "code",
   "execution_count": 1372,
   "id": "0674faa5",
   "metadata": {},
   "outputs": [
    {
     "data": {
      "text/plain": [
       "0                   0\n",
       "1                   0\n",
       "2                   0\n",
       "3                   0\n",
       "4                   0\n",
       "5                   0\n",
       "6                   0\n",
       "7                   0\n",
       "Diesel              0\n",
       "Gas                 0\n",
       "Std                 0\n",
       "Turbo               0\n",
       "Four_door           0\n",
       "alfa-romero         0\n",
       "audi                0\n",
       "bmw                 0\n",
       "chevrolet           0\n",
       "dodge               0\n",
       "honda               0\n",
       "isuzu               0\n",
       "jaguar              0\n",
       "mazda               0\n",
       "mercedes_benz       0\n",
       "mercury             0\n",
       "mitsubishi          0\n",
       "nissan              0\n",
       "peugot              0\n",
       "plymouth            0\n",
       "porsche             0\n",
       "renault             0\n",
       "saab                0\n",
       "subaru              0\n",
       "toyota              0\n",
       "volkswagen          0\n",
       "volvo               0\n",
       "4WD                 0\n",
       "dohc                0\n",
       "dohcv               0\n",
       "l                   0\n",
       "ohc                 0\n",
       "ohcf                0\n",
       "ohcv                0\n",
       "rotor               0\n",
       "FWD                 0\n",
       "RWD                 0\n",
       "Two_door            0\n",
       "Convertible         0\n",
       "Hardtop             0\n",
       "Hatchback           0\n",
       "Sedan               0\n",
       "Wagon               0\n",
       "num-of-cylinders    0\n",
       "bore                0\n",
       "peak-rpm            0\n",
       "dtype: int64"
      ]
     },
     "execution_count": 1372,
     "metadata": {},
     "output_type": "execute_result"
    }
   ],
   "source": [
    "X_train.isna().sum()"
   ]
  },
  {
   "cell_type": "code",
   "execution_count": 1373,
   "id": "21cb2f5f",
   "metadata": {},
   "outputs": [
    {
     "data": {
      "text/html": [
       "<div>\n",
       "<style scoped>\n",
       "    .dataframe tbody tr th:only-of-type {\n",
       "        vertical-align: middle;\n",
       "    }\n",
       "\n",
       "    .dataframe tbody tr th {\n",
       "        vertical-align: top;\n",
       "    }\n",
       "\n",
       "    .dataframe thead th {\n",
       "        text-align: right;\n",
       "    }\n",
       "</style>\n",
       "<table border=\"1\" class=\"dataframe\">\n",
       "  <thead>\n",
       "    <tr style=\"text-align: right;\">\n",
       "      <th></th>\n",
       "      <th>0</th>\n",
       "      <th>1</th>\n",
       "      <th>2</th>\n",
       "      <th>3</th>\n",
       "      <th>4</th>\n",
       "      <th>5</th>\n",
       "      <th>6</th>\n",
       "      <th>7</th>\n",
       "      <th>Diesel</th>\n",
       "      <th>Gas</th>\n",
       "      <th>...</th>\n",
       "      <th>RWD</th>\n",
       "      <th>Two_door</th>\n",
       "      <th>Convertible</th>\n",
       "      <th>Hardtop</th>\n",
       "      <th>Hatchback</th>\n",
       "      <th>Sedan</th>\n",
       "      <th>Wagon</th>\n",
       "      <th>num-of-cylinders</th>\n",
       "      <th>bore</th>\n",
       "      <th>peak-rpm</th>\n",
       "    </tr>\n",
       "  </thead>\n",
       "  <tbody>\n",
       "    <tr>\n",
       "      <th>154</th>\n",
       "      <td>-0.512397</td>\n",
       "      <td>-0.368043</td>\n",
       "      <td>-1.115607</td>\n",
       "      <td>2.256563</td>\n",
       "      <td>-0.544005</td>\n",
       "      <td>-0.866771</td>\n",
       "      <td>0.276632</td>\n",
       "      <td>0.199328</td>\n",
       "      <td>0</td>\n",
       "      <td>1</td>\n",
       "      <td>...</td>\n",
       "      <td>0</td>\n",
       "      <td>0</td>\n",
       "      <td>0</td>\n",
       "      <td>0</td>\n",
       "      <td>0</td>\n",
       "      <td>0</td>\n",
       "      <td>1</td>\n",
       "      <td>4</td>\n",
       "      <td>3.05</td>\n",
       "      <td>4800.0</td>\n",
       "    </tr>\n",
       "    <tr>\n",
       "      <th>21</th>\n",
       "      <td>-0.847124</td>\n",
       "      <td>-1.385100</td>\n",
       "      <td>-1.020489</td>\n",
       "      <td>-1.167778</td>\n",
       "      <td>-1.337640</td>\n",
       "      <td>-0.914409</td>\n",
       "      <td>1.788889</td>\n",
       "      <td>1.501134</td>\n",
       "      <td>0</td>\n",
       "      <td>1</td>\n",
       "      <td>...</td>\n",
       "      <td>0</td>\n",
       "      <td>1</td>\n",
       "      <td>0</td>\n",
       "      <td>0</td>\n",
       "      <td>1</td>\n",
       "      <td>0</td>\n",
       "      <td>0</td>\n",
       "      <td>4</td>\n",
       "      <td>2.97</td>\n",
       "      <td>5500.0</td>\n",
       "    </tr>\n",
       "    <tr>\n",
       "      <th>198</th>\n",
       "      <td>0.926928</td>\n",
       "      <td>1.198553</td>\n",
       "      <td>0.596518</td>\n",
       "      <td>1.060107</td>\n",
       "      <td>0.903324</td>\n",
       "      <td>0.038342</td>\n",
       "      <td>-1.235624</td>\n",
       "      <td>-1.247123</td>\n",
       "      <td>0</td>\n",
       "      <td>1</td>\n",
       "      <td>...</td>\n",
       "      <td>1</td>\n",
       "      <td>0</td>\n",
       "      <td>0</td>\n",
       "      <td>0</td>\n",
       "      <td>0</td>\n",
       "      <td>1</td>\n",
       "      <td>0</td>\n",
       "      <td>4</td>\n",
       "      <td>3.62</td>\n",
       "      <td>5100.0</td>\n",
       "    </tr>\n",
       "    <tr>\n",
       "      <th>48</th>\n",
       "      <td>2.382989</td>\n",
       "      <td>2.084377</td>\n",
       "      <td>1.737934</td>\n",
       "      <td>-0.342635</td>\n",
       "      <td>2.860573</td>\n",
       "      <td>3.087147</td>\n",
       "      <td>-1.538075</td>\n",
       "      <td>-1.681058</td>\n",
       "      <td>0</td>\n",
       "      <td>1</td>\n",
       "      <td>...</td>\n",
       "      <td>1</td>\n",
       "      <td>0</td>\n",
       "      <td>0</td>\n",
       "      <td>0</td>\n",
       "      <td>0</td>\n",
       "      <td>1</td>\n",
       "      <td>0</td>\n",
       "      <td>6</td>\n",
       "      <td>3.63</td>\n",
       "      <td>4750.0</td>\n",
       "    </tr>\n",
       "    <tr>\n",
       "      <th>34</th>\n",
       "      <td>-0.847124</td>\n",
       "      <td>-1.983852</td>\n",
       "      <td>-0.925371</td>\n",
       "      <td>-0.425150</td>\n",
       "      <td>-1.184280</td>\n",
       "      <td>-0.866771</td>\n",
       "      <td>0.730309</td>\n",
       "      <td>0.488618</td>\n",
       "      <td>0</td>\n",
       "      <td>1</td>\n",
       "      <td>...</td>\n",
       "      <td>0</td>\n",
       "      <td>1</td>\n",
       "      <td>0</td>\n",
       "      <td>0</td>\n",
       "      <td>1</td>\n",
       "      <td>0</td>\n",
       "      <td>0</td>\n",
       "      <td>4</td>\n",
       "      <td>2.91</td>\n",
       "      <td>6000.0</td>\n",
       "    </tr>\n",
       "  </tbody>\n",
       "</table>\n",
       "<p>5 rows × 54 columns</p>\n",
       "</div>"
      ],
      "text/plain": [
       "            0         1         2         3         4         5         6  \\\n",
       "154 -0.512397 -0.368043 -1.115607  2.256563 -0.544005 -0.866771  0.276632   \n",
       "21  -0.847124 -1.385100 -1.020489 -1.167778 -1.337640 -0.914409  1.788889   \n",
       "198  0.926928  1.198553  0.596518  1.060107  0.903324  0.038342 -1.235624   \n",
       "48   2.382989  2.084377  1.737934 -0.342635  2.860573  3.087147 -1.538075   \n",
       "34  -0.847124 -1.983852 -0.925371 -0.425150 -1.184280 -0.866771  0.730309   \n",
       "\n",
       "            7  Diesel  Gas  ...  RWD  Two_door  Convertible  Hardtop  \\\n",
       "154  0.199328       0    1  ...    0         0            0        0   \n",
       "21   1.501134       0    1  ...    0         1            0        0   \n",
       "198 -1.247123       0    1  ...    1         0            0        0   \n",
       "48  -1.681058       0    1  ...    1         0            0        0   \n",
       "34   0.488618       0    1  ...    0         1            0        0   \n",
       "\n",
       "     Hatchback  Sedan  Wagon  num-of-cylinders  bore  peak-rpm  \n",
       "154          0      0      1                 4  3.05    4800.0  \n",
       "21           1      0      0                 4  2.97    5500.0  \n",
       "198          0      1      0                 4  3.62    5100.0  \n",
       "48           0      1      0                 6  3.63    4750.0  \n",
       "34           1      0      0                 4  2.91    6000.0  \n",
       "\n",
       "[5 rows x 54 columns]"
      ]
     },
     "execution_count": 1373,
     "metadata": {},
     "output_type": "execute_result"
    }
   ],
   "source": [
    "X_test.head()"
   ]
  },
  {
   "cell_type": "markdown",
   "id": "98a9636f",
   "metadata": {},
   "source": [
    "Model Selection"
   ]
  },
  {
   "cell_type": "code",
   "execution_count": 1375,
   "id": "3cad5789",
   "metadata": {},
   "outputs": [
    {
     "data": {
      "text/plain": [
       "0.945721926632431"
      ]
     },
     "execution_count": 1375,
     "metadata": {},
     "output_type": "execute_result"
    }
   ],
   "source": [
    "reg = LinearRegression()\n",
    "reg.fit(X_train,y_train)\n",
    "reg.score(X_test,y_test)"
   ]
  },
  {
   "cell_type": "code",
   "execution_count": 1399,
   "id": "61c58bf5",
   "metadata": {},
   "outputs": [
    {
     "data": {
      "text/plain": [
       "0.956882373272685"
      ]
     },
     "execution_count": 1399,
     "metadata": {},
     "output_type": "execute_result"
    }
   ],
   "source": [
    "ridge = Ridge()\n",
    "ridge.fit(X_train,y_train)\n",
    "ridge.score(X_test,y_test)"
   ]
  },
  {
   "cell_type": "code",
   "execution_count": 1401,
   "id": "fccebcbe",
   "metadata": {},
   "outputs": [
    {
     "data": {
      "text/plain": [
       "0.9489440209843447"
      ]
     },
     "execution_count": 1401,
     "metadata": {},
     "output_type": "execute_result"
    }
   ],
   "source": [
    "lasso = Lasso()\n",
    "lasso.fit(X_train,y_train)\n",
    "lasso.score(X_test,y_test)"
   ]
  },
  {
   "cell_type": "code",
   "execution_count": 1403,
   "id": "c8adc70a",
   "metadata": {},
   "outputs": [
    {
     "data": {
      "text/plain": [
       "0.8540366595135309"
      ]
     },
     "execution_count": 1403,
     "metadata": {},
     "output_type": "execute_result"
    }
   ],
   "source": [
    "elasticNet = ElasticNet()\n",
    "elasticNet.fit(X_train,y_train)\n",
    "elasticNet.score(X_test,y_test)"
   ]
  },
  {
   "cell_type": "code",
   "execution_count": 1382,
   "id": "7c4d8a37",
   "metadata": {},
   "outputs": [
    {
     "data": {
      "text/plain": [
       "-4.190469583715589e+24"
      ]
     },
     "execution_count": 1382,
     "metadata": {},
     "output_type": "execute_result"
    }
   ],
   "source": [
    "sgd = SGDRegressor()\n",
    "sgd.fit(X_train,y_train)\n",
    "sgd.score(X_test,y_test)"
   ]
  },
  {
   "cell_type": "code",
   "execution_count": 1396,
   "id": "22a2b445",
   "metadata": {},
   "outputs": [
    {
     "data": {
      "text/plain": [
       "-6.449872688478639e+24"
      ]
     },
     "execution_count": 1396,
     "metadata": {},
     "output_type": "execute_result"
    }
   ],
   "source": [
    "sgd = SGDRegressor(penalty = \"l1\")\n",
    "sgd.fit(X_train,y_train)\n",
    "sgd.score(X_test,y_test)"
   ]
  },
  {
   "cell_type": "code",
   "execution_count": 1397,
   "id": "9c48abf8",
   "metadata": {},
   "outputs": [
    {
     "data": {
      "text/plain": [
       "-1.746539604866227e+24"
      ]
     },
     "execution_count": 1397,
     "metadata": {},
     "output_type": "execute_result"
    }
   ],
   "source": [
    "sgd = SGDRegressor(penalty = \"elasticnet\")\n",
    "sgd.fit(X_train,y_train)\n",
    "sgd.score(X_test,y_test)"
   ]
  },
  {
   "cell_type": "code",
   "execution_count": 1384,
   "id": "331d052a",
   "metadata": {},
   "outputs": [
    {
     "data": {
      "text/plain": [
       "0.3352269575606336"
      ]
     },
     "execution_count": 1384,
     "metadata": {},
     "output_type": "execute_result"
    }
   ],
   "source": [
    "knn = KNeighborsRegressor()\n",
    "knn.fit(X_train,y_train)\n",
    "knn.score(X_test,y_test)"
   ]
  },
  {
   "cell_type": "code",
   "execution_count": 1386,
   "id": "925ca795",
   "metadata": {},
   "outputs": [
    {
     "data": {
      "text/plain": [
       "-0.04515362739323314"
      ]
     },
     "execution_count": 1386,
     "metadata": {},
     "output_type": "execute_result"
    }
   ],
   "source": [
    "svr = SVR()\n",
    "svr.fit(X_train,y_train)\n",
    "svr.score(X_test,y_test)"
   ]
  },
  {
   "cell_type": "code",
   "execution_count": 1390,
   "id": "02558f02",
   "metadata": {},
   "outputs": [
    {
     "data": {
      "text/plain": [
       "0.971219740384059"
      ]
     },
     "execution_count": 1390,
     "metadata": {},
     "output_type": "execute_result"
    }
   ],
   "source": [
    "forest = RandomForestRegressor()\n",
    "forest.fit(X_train,y_train)\n",
    "forest.score(X_test,y_test)"
   ]
  },
  {
   "cell_type": "code",
   "execution_count": 1392,
   "id": "f208201e",
   "metadata": {},
   "outputs": [
    {
     "data": {
      "text/plain": [
       "0.9654803949764794"
      ]
     },
     "execution_count": 1392,
     "metadata": {},
     "output_type": "execute_result"
    }
   ],
   "source": [
    "gb = GradientBoostingRegressor()\n",
    "gb.fit(X_train,y_train)\n",
    "gb.score(X_test,y_test)"
   ]
  },
  {
   "cell_type": "code",
   "execution_count": 1404,
   "id": "54c12dd8",
   "metadata": {},
   "outputs": [],
   "source": [
    "#From the above results we can see that the Ridge LinearRegressor, RandomForest and the GradientBossting Regressors give the best \n",
    "#scores on test data, so we will further tune the the hyperparamters of these models and then select one best from them."
   ]
  },
  {
   "cell_type": "code",
   "execution_count": 1394,
   "id": "f5beb24c",
   "metadata": {},
   "outputs": [],
   "source": [
    "testDataScores = {}"
   ]
  },
  {
   "cell_type": "code",
   "execution_count": 1407,
   "id": "b7cd00df",
   "metadata": {},
   "outputs": [
    {
     "data": {
      "text/plain": [
       "RandomizedSearchCV(estimator=Ridge(),\n",
       "                   param_distributions={'alpha': [0.3, 0.5, 0.8, 1, 1.5, 2, 2.5,\n",
       "                                                  3],\n",
       "                                        'max_iter': [None, 500, 1000, 1500,\n",
       "                                                     2000]})"
      ]
     },
     "execution_count": 1407,
     "metadata": {},
     "output_type": "execute_result"
    }
   ],
   "source": [
    "ridgeLinearRegParams = {\"alpha\" : [0.3,0.5,0.8,1,1.5,2,2.5,3], \"max_iter\" : [None,500,1000,1500,2000]}\n",
    "\n",
    "rcvRidgeReg = RandomizedSearchCV(ridge,ridgeLinearRegParams)\n",
    "rcvRidgeReg.fit(X_train,y_train)"
   ]
  },
  {
   "cell_type": "code",
   "execution_count": 1410,
   "id": "8695f3fe",
   "metadata": {},
   "outputs": [
    {
     "data": {
      "text/plain": [
       "{'max_iter': None, 'alpha': 0.5}"
      ]
     },
     "execution_count": 1410,
     "metadata": {},
     "output_type": "execute_result"
    }
   ],
   "source": [
    "bestParamsRidge = rcvRidgeReg.best_params_\n",
    "bestParamsRidge"
   ]
  },
  {
   "cell_type": "code",
   "execution_count": 1412,
   "id": "1c53a618",
   "metadata": {},
   "outputs": [],
   "source": [
    "rcv_Ridge = Ridge(alpha = bestParamsRidge[\"alpha\"],max_iter = bestParamsRidge[\"max_iter\"])\n",
    "rcv_Ridge.fit(X_train,y_train)\n",
    "testDataScores[\"Ridge\"] = rcv_Ridge.score(X_test,y_test)"
   ]
  },
  {
   "cell_type": "code",
   "execution_count": 1443,
   "id": "fffa9d9c",
   "metadata": {},
   "outputs": [
    {
     "data": {
      "text/plain": [
       "RandomizedSearchCV(estimator=Lasso(),\n",
       "                   param_distributions={'alpha': [0.3, 0.5, 0.8, 1, 1.5, 2, 2.5,\n",
       "                                                  3],\n",
       "                                        'max_iter': [5000, 1500, 2000, 2500]})"
      ]
     },
     "execution_count": 1443,
     "metadata": {},
     "output_type": "execute_result"
    }
   ],
   "source": [
    "lassoLinearRegParams = {\"alpha\" : [0.3,0.5,0.8,1,1.5,2,2.5,3], \"max_iter\" : [5000,1500,2000,2500]}\n",
    "\n",
    "rcvLassoReg = RandomizedSearchCV(lasso,lassoLinearRegParams)\n",
    "rcvLassoReg.fit(X_train,y_train)"
   ]
  },
  {
   "cell_type": "code",
   "execution_count": 1444,
   "id": "5ba3e9cf",
   "metadata": {},
   "outputs": [
    {
     "data": {
      "text/plain": [
       "{'max_iter': 5000, 'alpha': 2.5}"
      ]
     },
     "execution_count": 1444,
     "metadata": {},
     "output_type": "execute_result"
    }
   ],
   "source": [
    "bestParamsLasso = rcvLassoReg.best_params_\n",
    "bestParamsLasso"
   ]
  },
  {
   "cell_type": "code",
   "execution_count": 1445,
   "id": "99e0a898",
   "metadata": {},
   "outputs": [],
   "source": [
    "rcv_Lasso = Lasso(alpha = bestParamsLasso[\"alpha\"],max_iter = bestParamsLasso[\"max_iter\"])\n",
    "rcv_Lasso.fit(X_train,y_train)\n",
    "testDataScores[\"Lasso\"] = rcv_Lasso.score(X_test,y_test)"
   ]
  },
  {
   "cell_type": "code",
   "execution_count": 1416,
   "id": "8a14402b",
   "metadata": {},
   "outputs": [
    {
     "data": {
      "text/plain": [
       "RandomizedSearchCV(estimator=RandomForestRegressor(),\n",
       "                   param_distributions={'max_depth': [3, 4, 5, 6],\n",
       "                                        'max_features': [None],\n",
       "                                        'min_samples_leaf': [1, 3, 5, 7, 9, 11],\n",
       "                                        'min_samples_split': [2, 4, 6, 8, 10,\n",
       "                                                              12, 14],\n",
       "                                        'n_estimators': [50, 100, 200, 300, 500,\n",
       "                                                         600]})"
      ]
     },
     "execution_count": 1416,
     "metadata": {},
     "output_type": "execute_result"
    }
   ],
   "source": [
    "forestParams = {\"n_estimators\" : [50,100,200,300,500,600],\"min_samples_split\" : [2,4,6,8,10,12,14],\n",
    "                 \"min_samples_leaf\" :[1,3,5,7,9,11],\"max_depth\" : [3,4,5,6],\"max_features\":[None]}\n",
    "\n",
    "rcvforest = RandomizedSearchCV(forest,forestParams)\n",
    "rcvforest.fit(X_train,y_train)"
   ]
  },
  {
   "cell_type": "code",
   "execution_count": 1417,
   "id": "5eac9e32",
   "metadata": {},
   "outputs": [
    {
     "data": {
      "text/plain": [
       "{'n_estimators': 300,\n",
       " 'min_samples_split': 10,\n",
       " 'min_samples_leaf': 1,\n",
       " 'max_features': None,\n",
       " 'max_depth': 5}"
      ]
     },
     "execution_count": 1417,
     "metadata": {},
     "output_type": "execute_result"
    }
   ],
   "source": [
    "bestParamsforest = rcvforest.best_params_\n",
    "bestParamsforest"
   ]
  },
  {
   "cell_type": "code",
   "execution_count": 1427,
   "id": "5c2f4955",
   "metadata": {},
   "outputs": [],
   "source": [
    "rcv_forest = RandomForestRegressor(n_estimators = bestParamsforest[\"n_estimators\"],min_samples_split = bestParamsforest[\"min_samples_split\"],\n",
    "                                   min_samples_leaf = bestParamsforest[\"min_samples_leaf\"],\n",
    "                                   max_depth = bestParamsforest[\"max_depth\"],max_features = bestParamsforest[\"max_features\"])\n",
    "\n",
    "rcv_forest.fit(X_train,y_train)\n",
    "testDataScores[\"Forest\"] = rcv_forest.score(X_test,y_test)"
   ]
  },
  {
   "cell_type": "code",
   "execution_count": 1420,
   "id": "8476f299",
   "metadata": {},
   "outputs": [
    {
     "data": {
      "text/plain": [
       "RandomizedSearchCV(estimator=GradientBoostingRegressor(),\n",
       "                   param_distributions={'learning_rate': [0.1, 0.001, 0.0001],\n",
       "                                        'max_depth': [3, 4, 5, 6, 7],\n",
       "                                        'min_samples_leaf': [1, 3, 5, 7, 9, 11],\n",
       "                                        'min_samples_split': [2, 4, 6, 8, 10,\n",
       "                                                              12],\n",
       "                                        'n_estimators': [100, 500, 1000, 2000],\n",
       "                                        'subsample': [0.2, 0.4, 0.5, 0.8, 1]})"
      ]
     },
     "execution_count": 1420,
     "metadata": {},
     "output_type": "execute_result"
    }
   ],
   "source": [
    "gbParams = {\"learning_rate\" :[0.1,0.001,0.0001],\"n_estimators\" : [100,500,1000,2000],\n",
    "                 \"subsample\" : [0.2,0.4,0.5,0.8,1], \"min_samples_split\" : [2,4,6,8,10,12],\n",
    "                 \"min_samples_leaf\" :[1,3,5,7,9,11], \"max_depth\" : [3,4,5,6,7]}\n",
    "\n",
    "rcvgb = RandomizedSearchCV(gb,gbParams)\n",
    "rcvgb.fit(X_train,y_train)"
   ]
  },
  {
   "cell_type": "code",
   "execution_count": 1422,
   "id": "3b48f7cd",
   "metadata": {},
   "outputs": [
    {
     "data": {
      "text/plain": [
       "{'subsample': 0.8,\n",
       " 'n_estimators': 500,\n",
       " 'min_samples_split': 10,\n",
       " 'min_samples_leaf': 3,\n",
       " 'max_depth': 3,\n",
       " 'learning_rate': 0.1}"
      ]
     },
     "execution_count": 1422,
     "metadata": {},
     "output_type": "execute_result"
    }
   ],
   "source": [
    "bestParamsgb = rcvgb.best_params_\n",
    "bestParamsgb"
   ]
  },
  {
   "cell_type": "code",
   "execution_count": 1425,
   "id": "584fbbd2",
   "metadata": {},
   "outputs": [],
   "source": [
    "rcv_gb = GradientBoostingRegressor(learning_rate = bestParamsgb[\"learning_rate\"],n_estimators = bestParamsgb[\"n_estimators\"],\n",
    "                                        subsample = bestParamsgb[\"subsample\"],\n",
    "                                        min_samples_split = bestParamsgb[\"min_samples_split\"],min_samples_leaf = bestParamsgb[\"min_samples_leaf\"],\n",
    "                                        max_depth = bestParamsgb[\"max_depth\"])\n",
    "rcv_gb.fit(X_train,y_train)\n",
    "testDataScores[\"Gboost\"] = rcv_gb.score(X_test,y_test)"
   ]
  },
  {
   "cell_type": "code",
   "execution_count": 1446,
   "id": "925a1b8d",
   "metadata": {},
   "outputs": [
    {
     "data": {
      "text/plain": [
       "{'Ridge': 0.9585622086182325,\n",
       " 'Gboost': 0.9643827413502571,\n",
       " 'Forest': 0.9629335192937455,\n",
       " 'Lasso': 0.9525040077474227}"
      ]
     },
     "execution_count": 1446,
     "metadata": {},
     "output_type": "execute_result"
    }
   ],
   "source": [
    "testDataScores"
   ]
  },
  {
   "cell_type": "code",
   "execution_count": 1484,
   "id": "4df1a12e",
   "metadata": {},
   "outputs": [
    {
     "data": {
      "text/plain": [
       "<BarContainer object of 4 artists>"
      ]
     },
     "execution_count": 1484,
     "metadata": {},
     "output_type": "execute_result"
    },
    {
     "data": {
      "image/png": "[encoded data removed]",
      "text/plain": [
       "<Figure size 432x288 with 1 Axes>"
      ]
     },
     "metadata": {
      "needs_background": "light"
     },
     "output_type": "display_data"
    }
   ],
   "source": [
    "x = [\"Ridge\",\"GBoost\",\"Forest\",\"Lasso\"]\n",
    "plt.bar(x,testDataScores.values())"
   ]
  },
  {
   "cell_type": "markdown",
   "id": "c16f81fb",
   "metadata": {},
   "source": [
    "Final Model Creation and Validating its score"
   ]
  },
  {
   "cell_type": "code",
   "execution_count": 1447,
   "id": "ecb7d136",
   "metadata": {},
   "outputs": [],
   "source": [
    "#From the testData Scores we can see that GBOsst model has the best perfromance on the test data after hyperparamter tunning"
   ]
  },
  {
   "cell_type": "code",
   "execution_count": 1465,
   "id": "d3b1a86c",
   "metadata": {},
   "outputs": [],
   "source": [
    "finalModel = GradientBoostingRegressor(learning_rate = bestParamsgb[\"learning_rate\"],n_estimators = bestParamsgb[\"n_estimators\"],\n",
    "                                        subsample = bestParamsgb[\"subsample\"],\n",
    "                                        min_samples_split = bestParamsgb[\"min_samples_split\"],min_samples_leaf = bestParamsgb[\"min_samples_leaf\"],\n",
    "                                        max_depth = bestParamsgb[\"max_depth\"])\n",
    "finalModel.fit(X_train,y_train)\n",
    "R2Score = finalModel.score(X_test,y_test)"
   ]
  },
  {
   "cell_type": "code",
   "execution_count": 1466,
   "id": "8828c15a",
   "metadata": {},
   "outputs": [],
   "source": [
    "y_pred = finalModel.predict(X_test)\n",
    "MAE = mean_absolute_error(y_test,y_pred)\n",
    "MSE = mean_squared_error(y_test,y_pred)"
   ]
  },
  {
   "cell_type": "code",
   "execution_count": 1470,
   "id": "28ad5602",
   "metadata": {},
   "outputs": [
    {
     "name": "stdout",
     "output_type": "stream",
     "text": [
      "R2 Score :  0.97\n",
      "Mean Absolute Error :  1113.57\n",
      "Mean Squared Error : 2101235.3\n"
     ]
    }
   ],
   "source": [
    "print(\"R2 Score : \", round(R2Score,2))\n",
    "print(\"Mean Absolute Error : \", round(MAE,2))\n",
    "print(\"Mean Squared Error :\", round(MSE,2))"
   ]
  },
  {
   "cell_type": "code",
   "execution_count": null,
   "id": "5b263ffc",
   "metadata": {},
   "outputs": [],
   "source": []
  }
 ],
 "metadata": {
  "kernelspec": {
   "display_name": "Python 3 (ipykernel)",
   "language": "python",
   "name": "python3"
  },
  "language_info": {
   "codemirror_mode": {
    "name": "ipython",
    "version": 3
   },
   "file_extension": ".py",
   "mimetype": "text/x-python",
   "name": "python",
   "nbconvert_exporter": "python",
   "pygments_lexer": "ipython3",
   "version": "3.9.12"
  }
 },
 "nbformat": 4,
 "nbformat_minor": 5
}
